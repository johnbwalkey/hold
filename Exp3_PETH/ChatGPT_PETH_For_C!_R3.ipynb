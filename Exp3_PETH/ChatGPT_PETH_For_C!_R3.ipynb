{
 "cells": [
  {
   "cell_type": "markdown",
   "metadata": {},
   "source": [
    "\n",
    "create a jupyter lab notebook that opens Stim_Times.xlsx and creates a data frame with the days referenced and open the USV_Times.xlsx file and puts days into a separate data frame then generate a table showing values  and a per-event time histogram showing USV relative to Stim_Times averaged over days\n",
    "ChatGPT\n",
    "Here is a sample Jupyter notebook that accomplishes your request. This notebook will:\n",
    "\n",
    "Open the Stim_Times.xlsx file and create a data frame with the days referenced.\n",
    "Open the USV_Times.xlsx file and put days into a separate data frame.\n",
    "Generate a table showing values.\n",
    "Create a per-event time histogram showing USV relative to Stim_Times averaged over days.\n",
    "Please ensure you have the necessary libraries installed (pandas, numpy, matplotlib, and openpyxl)."
   ]
  },
  {
   "cell_type": "code",
   "metadata": {
    "ExecuteTime": {
     "end_time": "2024-07-17T02:49:29.768724Z",
     "start_time": "2024-07-17T02:49:29.765385Z"
    }
   },
   "source": [
    "# Import necessary libraries\n",
    "import pandas as pd\n",
    "import matplotlib.pyplot as plt\n",
    "import openpyxl     "
   ],
   "outputs": [],
   "execution_count": 3
  },
  {
   "cell_type": "code",
   "metadata": {
    "ExecuteTime": {
     "end_time": "2024-07-17T02:49:36.704965Z",
     "start_time": "2024-07-17T02:49:36.505612Z"
    }
   },
   "source": [
    "# Load Stim_Times.xlsx into a DataFrame\n",
    "stim_times_df = pd.read_excel('Stim_Times.xlsx')\n",
    "\n",
    "# Load USV_Times.xlsx into a separate DataFrame\n",
    "usv_times_df = pd.read_excel('USV_Times.xlsx')"
   ],
   "outputs": [],
   "execution_count": 4
  },
  {
   "cell_type": "code",
   "metadata": {
    "ExecuteTime": {
     "end_time": "2024-07-17T02:49:39.291229Z",
     "start_time": "2024-07-17T02:49:39.281495Z"
    }
   },
   "source": [
    "# Display the data frames\n",
    "print(\"Stim Times DataFrame:\")\n",
    "print(stim_times_df)\n",
    "print(\"\\nUSV Times DataFrame:\")\n",
    "print(usv_times_df)"
   ],
   "outputs": [
    {
     "name": "stdout",
     "output_type": "stream",
     "text": [
      "Stim Times DataFrame:\n",
      "           day1         day2         day3         day4\n",
      "0     65.680296    65.655028    65.609801    64.644480\n",
      "1    133.190189   128.425115   131.748603   134.422062\n",
      "2    185.949773   173.229175   179.772226   182.394597\n",
      "3    245.940147   234.188497   241.405896   253.119797\n",
      "4    306.101839   293.599533   295.468297   312.952134\n",
      "5    349.642676   338.194886   339.400970   361.125600\n",
      "6    395.790690   386.475042   391.539030   412.447224\n",
      "7    449.559136   439.369966   444.311890   471.361273\n",
      "8    510.940340   500.750468   507.543062   533.315955\n",
      "9    574.084301   562.864906   570.972268   597.921189\n",
      "10   618.705591   614.869911   616.039964   645.364036\n",
      "11   685.728666   676.061757   678.909152   712.130746\n",
      "12   747.185381   737.708242   741.338940   773.973900\n",
      "13   798.129043   789.579568   794.303411   827.237849\n",
      "14   855.730211   845.831715   852.270664   887.742700\n",
      "15   898.614097   889.305490   897.492246   932.279092\n",
      "16   948.322464   937.688247   947.997183   985.514920\n",
      "17  1008.282616   997.310511  1010.543313  1051.757640\n",
      "18  1066.836386  1054.510236  1068.818258  1111.551122\n",
      "19  1127.112518  1117.834660  1131.462299  1174.455144\n",
      "\n",
      "USV Times DataFrame:\n",
      "             day1      day2      day3      day4\n",
      "0        0.426907  0.038648  0.082348  3.098962\n",
      "1        0.788774  0.759410  0.206411  3.478579\n",
      "2        1.052892  1.507857  0.736796  3.654547\n",
      "3        1.491875  3.082187  1.483642  5.045937\n",
      "4        1.768675  5.929906  4.588339  5.286480\n",
      "...           ...       ...       ...       ...\n",
      "2760  1134.030289       NaN       NaN       NaN\n",
      "2761  1134.446170       NaN       NaN       NaN\n",
      "2762  1134.524594       NaN       NaN       NaN\n",
      "2763  1134.722612       NaN       NaN       NaN\n",
      "2764  1135.183641       NaN       NaN       NaN\n",
      "\n",
      "[2765 rows x 4 columns]\n"
     ]
    }
   ],
   "execution_count": 5
  },
  {
   "cell_type": "code",
   "metadata": {
    "ExecuteTime": {
     "end_time": "2024-07-17T02:49:42.359933Z",
     "start_time": "2024-07-17T02:49:42.356131Z"
    }
   },
   "source": [
    "# Ensure that 'day' columns are named consistently\n",
    "stim_times_df.rename(columns={'day': 'Day'}, inplace=True)\n",
    "usv_times_df.rename(columns={'day': 'Day'}, inplace=True)"
   ],
   "outputs": [],
   "execution_count": 6
  },
  {
   "cell_type": "code",
   "metadata": {
    "ExecuteTime": {
     "end_time": "2024-07-17T02:49:44.912524Z",
     "start_time": "2024-07-17T02:49:44.730249Z"
    }
   },
   "source": [
    "# Merge the data frames on the 'Day' column\n",
    "merged_df = pd.merge(stim_times_df, usv_times_df, on='Day', how='inner')\n",
    "\n",
    "# Display the merged data frame\n",
    "print(\"\\nMerged DataFrame:\")\n",
    "print(merged_df)"
   ],
   "outputs": [
    {
     "ename": "KeyError",
     "evalue": "'Day'",
     "output_type": "error",
     "traceback": [
      "\u001B[0;31m---------------------------------------------------------------------------\u001B[0m",
      "\u001B[0;31mKeyError\u001B[0m                                  Traceback (most recent call last)",
      "\u001B[0;32m/var/folders/1v/__tv5k2d4wz8gb4c2d7vmx0m0000gn/T/ipykernel_11750/842380436.py\u001B[0m in \u001B[0;36m?\u001B[0;34m()\u001B[0m\n\u001B[1;32m      1\u001B[0m \u001B[0;31m# Merge the data frames on the 'Day' column\u001B[0m\u001B[0;34m\u001B[0m\u001B[0;34m\u001B[0m\u001B[0m\n\u001B[0;32m----> 2\u001B[0;31m \u001B[0mmerged_df\u001B[0m \u001B[0;34m=\u001B[0m \u001B[0mpd\u001B[0m\u001B[0;34m.\u001B[0m\u001B[0mmerge\u001B[0m\u001B[0;34m(\u001B[0m\u001B[0mstim_times_df\u001B[0m\u001B[0;34m,\u001B[0m \u001B[0musv_times_df\u001B[0m\u001B[0;34m,\u001B[0m \u001B[0mon\u001B[0m\u001B[0;34m=\u001B[0m\u001B[0;34m'Day'\u001B[0m\u001B[0;34m,\u001B[0m \u001B[0mhow\u001B[0m\u001B[0;34m=\u001B[0m\u001B[0;34m'inner'\u001B[0m\u001B[0;34m)\u001B[0m\u001B[0;34m\u001B[0m\u001B[0;34m\u001B[0m\u001B[0m\n\u001B[0m\u001B[1;32m      3\u001B[0m \u001B[0;34m\u001B[0m\u001B[0m\n\u001B[1;32m      4\u001B[0m \u001B[0;31m# Display the merged data frame\u001B[0m\u001B[0;34m\u001B[0m\u001B[0;34m\u001B[0m\u001B[0m\n\u001B[1;32m      5\u001B[0m \u001B[0mprint\u001B[0m\u001B[0;34m(\u001B[0m\u001B[0;34m\"\\nMerged DataFrame:\"\u001B[0m\u001B[0;34m)\u001B[0m\u001B[0;34m\u001B[0m\u001B[0;34m\u001B[0m\u001B[0m\n",
      "\u001B[0;32m~/Desktop/hold/miniconda3/lib/python3.12/site-packages/pandas/core/reshape/merge.py\u001B[0m in \u001B[0;36m?\u001B[0;34m(left, right, how, on, left_on, right_on, left_index, right_index, sort, suffixes, copy, indicator, validate)\u001B[0m\n\u001B[1;32m    166\u001B[0m             \u001B[0mvalidate\u001B[0m\u001B[0;34m=\u001B[0m\u001B[0mvalidate\u001B[0m\u001B[0;34m,\u001B[0m\u001B[0;34m\u001B[0m\u001B[0;34m\u001B[0m\u001B[0m\n\u001B[1;32m    167\u001B[0m             \u001B[0mcopy\u001B[0m\u001B[0;34m=\u001B[0m\u001B[0mcopy\u001B[0m\u001B[0;34m,\u001B[0m\u001B[0;34m\u001B[0m\u001B[0;34m\u001B[0m\u001B[0m\n\u001B[1;32m    168\u001B[0m         \u001B[0;34m)\u001B[0m\u001B[0;34m\u001B[0m\u001B[0;34m\u001B[0m\u001B[0m\n\u001B[1;32m    169\u001B[0m     \u001B[0;32melse\u001B[0m\u001B[0;34m:\u001B[0m\u001B[0;34m\u001B[0m\u001B[0;34m\u001B[0m\u001B[0m\n\u001B[0;32m--> 170\u001B[0;31m         op = _MergeOperation(\n\u001B[0m\u001B[1;32m    171\u001B[0m             \u001B[0mleft_df\u001B[0m\u001B[0;34m,\u001B[0m\u001B[0;34m\u001B[0m\u001B[0;34m\u001B[0m\u001B[0m\n\u001B[1;32m    172\u001B[0m             \u001B[0mright_df\u001B[0m\u001B[0;34m,\u001B[0m\u001B[0;34m\u001B[0m\u001B[0;34m\u001B[0m\u001B[0m\n\u001B[1;32m    173\u001B[0m             \u001B[0mhow\u001B[0m\u001B[0;34m=\u001B[0m\u001B[0mhow\u001B[0m\u001B[0;34m,\u001B[0m\u001B[0;34m\u001B[0m\u001B[0;34m\u001B[0m\u001B[0m\n",
      "\u001B[0;32m~/Desktop/hold/miniconda3/lib/python3.12/site-packages/pandas/core/reshape/merge.py\u001B[0m in \u001B[0;36m?\u001B[0;34m(self, left, right, how, on, left_on, right_on, left_index, right_index, sort, suffixes, indicator, validate)\u001B[0m\n\u001B[1;32m    790\u001B[0m             \u001B[0mself\u001B[0m\u001B[0;34m.\u001B[0m\u001B[0mright_join_keys\u001B[0m\u001B[0;34m,\u001B[0m\u001B[0;34m\u001B[0m\u001B[0;34m\u001B[0m\u001B[0m\n\u001B[1;32m    791\u001B[0m             \u001B[0mself\u001B[0m\u001B[0;34m.\u001B[0m\u001B[0mjoin_names\u001B[0m\u001B[0;34m,\u001B[0m\u001B[0;34m\u001B[0m\u001B[0;34m\u001B[0m\u001B[0m\n\u001B[1;32m    792\u001B[0m             \u001B[0mleft_drop\u001B[0m\u001B[0;34m,\u001B[0m\u001B[0;34m\u001B[0m\u001B[0;34m\u001B[0m\u001B[0m\n\u001B[1;32m    793\u001B[0m             \u001B[0mright_drop\u001B[0m\u001B[0;34m,\u001B[0m\u001B[0;34m\u001B[0m\u001B[0;34m\u001B[0m\u001B[0m\n\u001B[0;32m--> 794\u001B[0;31m         \u001B[0;34m)\u001B[0m \u001B[0;34m=\u001B[0m \u001B[0mself\u001B[0m\u001B[0;34m.\u001B[0m\u001B[0m_get_merge_keys\u001B[0m\u001B[0;34m(\u001B[0m\u001B[0;34m)\u001B[0m\u001B[0;34m\u001B[0m\u001B[0;34m\u001B[0m\u001B[0m\n\u001B[0m\u001B[1;32m    795\u001B[0m \u001B[0;34m\u001B[0m\u001B[0m\n\u001B[1;32m    796\u001B[0m         \u001B[0;32mif\u001B[0m \u001B[0mleft_drop\u001B[0m\u001B[0;34m:\u001B[0m\u001B[0;34m\u001B[0m\u001B[0;34m\u001B[0m\u001B[0m\n\u001B[1;32m    797\u001B[0m             \u001B[0mself\u001B[0m\u001B[0;34m.\u001B[0m\u001B[0mleft\u001B[0m \u001B[0;34m=\u001B[0m \u001B[0mself\u001B[0m\u001B[0;34m.\u001B[0m\u001B[0mleft\u001B[0m\u001B[0;34m.\u001B[0m\u001B[0m_drop_labels_or_levels\u001B[0m\u001B[0;34m(\u001B[0m\u001B[0mleft_drop\u001B[0m\u001B[0;34m)\u001B[0m\u001B[0;34m\u001B[0m\u001B[0;34m\u001B[0m\u001B[0m\n",
      "\u001B[0;32m~/Desktop/hold/miniconda3/lib/python3.12/site-packages/pandas/core/reshape/merge.py\u001B[0m in \u001B[0;36m?\u001B[0;34m(self)\u001B[0m\n\u001B[1;32m   1293\u001B[0m                         \u001B[0;31m# Then we're either Hashable or a wrong-length arraylike,\u001B[0m\u001B[0;34m\u001B[0m\u001B[0;34m\u001B[0m\u001B[0m\n\u001B[1;32m   1294\u001B[0m                         \u001B[0;31m#  the latter of which will raise\u001B[0m\u001B[0;34m\u001B[0m\u001B[0;34m\u001B[0m\u001B[0m\n\u001B[1;32m   1295\u001B[0m                         \u001B[0mrk\u001B[0m \u001B[0;34m=\u001B[0m \u001B[0mcast\u001B[0m\u001B[0;34m(\u001B[0m\u001B[0mHashable\u001B[0m\u001B[0;34m,\u001B[0m \u001B[0mrk\u001B[0m\u001B[0;34m)\u001B[0m\u001B[0;34m\u001B[0m\u001B[0;34m\u001B[0m\u001B[0m\n\u001B[1;32m   1296\u001B[0m                         \u001B[0;32mif\u001B[0m \u001B[0mrk\u001B[0m \u001B[0;32mis\u001B[0m \u001B[0;32mnot\u001B[0m \u001B[0;32mNone\u001B[0m\u001B[0;34m:\u001B[0m\u001B[0;34m\u001B[0m\u001B[0;34m\u001B[0m\u001B[0m\n\u001B[0;32m-> 1297\u001B[0;31m                             \u001B[0mright_keys\u001B[0m\u001B[0;34m.\u001B[0m\u001B[0mappend\u001B[0m\u001B[0;34m(\u001B[0m\u001B[0mright\u001B[0m\u001B[0;34m.\u001B[0m\u001B[0m_get_label_or_level_values\u001B[0m\u001B[0;34m(\u001B[0m\u001B[0mrk\u001B[0m\u001B[0;34m)\u001B[0m\u001B[0;34m)\u001B[0m\u001B[0;34m\u001B[0m\u001B[0;34m\u001B[0m\u001B[0m\n\u001B[0m\u001B[1;32m   1298\u001B[0m                         \u001B[0;32melse\u001B[0m\u001B[0;34m:\u001B[0m\u001B[0;34m\u001B[0m\u001B[0;34m\u001B[0m\u001B[0m\n\u001B[1;32m   1299\u001B[0m                             \u001B[0;31m# work-around for merge_asof(right_index=True)\u001B[0m\u001B[0;34m\u001B[0m\u001B[0;34m\u001B[0m\u001B[0m\n\u001B[1;32m   1300\u001B[0m                             \u001B[0mright_keys\u001B[0m\u001B[0;34m.\u001B[0m\u001B[0mappend\u001B[0m\u001B[0;34m(\u001B[0m\u001B[0mright\u001B[0m\u001B[0;34m.\u001B[0m\u001B[0mindex\u001B[0m\u001B[0;34m.\u001B[0m\u001B[0m_values\u001B[0m\u001B[0;34m)\u001B[0m\u001B[0;34m\u001B[0m\u001B[0;34m\u001B[0m\u001B[0m\n",
      "\u001B[0;32m~/Desktop/hold/miniconda3/lib/python3.12/site-packages/pandas/core/generic.py\u001B[0m in \u001B[0;36m?\u001B[0;34m(self, key, axis)\u001B[0m\n\u001B[1;32m   1907\u001B[0m             \u001B[0mvalues\u001B[0m \u001B[0;34m=\u001B[0m \u001B[0mself\u001B[0m\u001B[0;34m.\u001B[0m\u001B[0mxs\u001B[0m\u001B[0;34m(\u001B[0m\u001B[0mkey\u001B[0m\u001B[0;34m,\u001B[0m \u001B[0maxis\u001B[0m\u001B[0;34m=\u001B[0m\u001B[0mother_axes\u001B[0m\u001B[0;34m[\u001B[0m\u001B[0;36m0\u001B[0m\u001B[0;34m]\u001B[0m\u001B[0;34m)\u001B[0m\u001B[0;34m.\u001B[0m\u001B[0m_values\u001B[0m\u001B[0;34m\u001B[0m\u001B[0;34m\u001B[0m\u001B[0m\n\u001B[1;32m   1908\u001B[0m         \u001B[0;32melif\u001B[0m \u001B[0mself\u001B[0m\u001B[0;34m.\u001B[0m\u001B[0m_is_level_reference\u001B[0m\u001B[0;34m(\u001B[0m\u001B[0mkey\u001B[0m\u001B[0;34m,\u001B[0m \u001B[0maxis\u001B[0m\u001B[0;34m=\u001B[0m\u001B[0maxis\u001B[0m\u001B[0;34m)\u001B[0m\u001B[0;34m:\u001B[0m\u001B[0;34m\u001B[0m\u001B[0;34m\u001B[0m\u001B[0m\n\u001B[1;32m   1909\u001B[0m             \u001B[0mvalues\u001B[0m \u001B[0;34m=\u001B[0m \u001B[0mself\u001B[0m\u001B[0;34m.\u001B[0m\u001B[0maxes\u001B[0m\u001B[0;34m[\u001B[0m\u001B[0maxis\u001B[0m\u001B[0;34m]\u001B[0m\u001B[0;34m.\u001B[0m\u001B[0mget_level_values\u001B[0m\u001B[0;34m(\u001B[0m\u001B[0mkey\u001B[0m\u001B[0;34m)\u001B[0m\u001B[0;34m.\u001B[0m\u001B[0m_values\u001B[0m\u001B[0;34m\u001B[0m\u001B[0;34m\u001B[0m\u001B[0m\n\u001B[1;32m   1910\u001B[0m         \u001B[0;32melse\u001B[0m\u001B[0;34m:\u001B[0m\u001B[0;34m\u001B[0m\u001B[0;34m\u001B[0m\u001B[0m\n\u001B[0;32m-> 1911\u001B[0;31m             \u001B[0;32mraise\u001B[0m \u001B[0mKeyError\u001B[0m\u001B[0;34m(\u001B[0m\u001B[0mkey\u001B[0m\u001B[0;34m)\u001B[0m\u001B[0;34m\u001B[0m\u001B[0;34m\u001B[0m\u001B[0m\n\u001B[0m\u001B[1;32m   1912\u001B[0m \u001B[0;34m\u001B[0m\u001B[0m\n\u001B[1;32m   1913\u001B[0m         \u001B[0;31m# Check for duplicates\u001B[0m\u001B[0;34m\u001B[0m\u001B[0;34m\u001B[0m\u001B[0m\n\u001B[1;32m   1914\u001B[0m         \u001B[0;32mif\u001B[0m \u001B[0mvalues\u001B[0m\u001B[0;34m.\u001B[0m\u001B[0mndim\u001B[0m \u001B[0;34m>\u001B[0m \u001B[0;36m1\u001B[0m\u001B[0;34m:\u001B[0m\u001B[0;34m\u001B[0m\u001B[0;34m\u001B[0m\u001B[0m\n",
      "\u001B[0;31mKeyError\u001B[0m: 'Day'"
     ]
    }
   ],
   "execution_count": 7
  },
  {
   "cell_type": "code",
   "metadata": {
    "ExecuteTime": {
     "end_time": "2024-07-17T02:50:21.211625Z",
     "start_time": "2024-07-17T02:50:21.056685Z"
    }
   },
   "source": [
    "# Calculate the time differences between USV and Stim events\n",
    "merged_df['Time_Difference'] = merged_df['USV_Time'] - merged_df['Stim_Time']\n",
    "\n",
    "# Create a histogram of the time differences\n",
    "plt.figure(figsize=(10, 6))\n",
    "plt.hist(merged_df['Time_Difference'], bins=30, edgecolor='black')\n",
    "plt.title('Histogram of USV Relative to Stim_Times')\n",
    "plt.xlabel('Time Difference (s)')\n",
    "plt.ylabel('Frequency')\n",
    "plt.grid(True)\n",
    "plt.show()"
   ],
   "outputs": [
    {
     "ename": "NameError",
     "evalue": "name 'merged_df' is not defined",
     "output_type": "error",
     "traceback": [
      "\u001B[0;31m---------------------------------------------------------------------------\u001B[0m",
      "\u001B[0;31mNameError\u001B[0m                                 Traceback (most recent call last)",
      "Cell \u001B[0;32mIn[8], line 2\u001B[0m\n\u001B[1;32m      1\u001B[0m \u001B[38;5;66;03m# Calculate the time differences between USV and Stim events\u001B[39;00m\n\u001B[0;32m----> 2\u001B[0m merged_df[\u001B[38;5;124m'\u001B[39m\u001B[38;5;124mTime_Difference\u001B[39m\u001B[38;5;124m'\u001B[39m] \u001B[38;5;241m=\u001B[39m \u001B[43mmerged_df\u001B[49m[\u001B[38;5;124m'\u001B[39m\u001B[38;5;124mUSV_Time\u001B[39m\u001B[38;5;124m'\u001B[39m] \u001B[38;5;241m-\u001B[39m merged_df[\u001B[38;5;124m'\u001B[39m\u001B[38;5;124mStim_Time\u001B[39m\u001B[38;5;124m'\u001B[39m]\n\u001B[1;32m      4\u001B[0m \u001B[38;5;66;03m# Create a histogram of the time differences\u001B[39;00m\n\u001B[1;32m      5\u001B[0m plt\u001B[38;5;241m.\u001B[39mfigure(figsize\u001B[38;5;241m=\u001B[39m(\u001B[38;5;241m10\u001B[39m, \u001B[38;5;241m6\u001B[39m))\n",
      "\u001B[0;31mNameError\u001B[0m: name 'merged_df' is not defined"
     ]
    }
   ],
   "execution_count": 8
  },
  {
   "cell_type": "code",
   "metadata": {
    "ExecuteTime": {
     "end_time": "2024-07-17T02:50:22.735401Z",
     "start_time": "2024-07-17T02:50:22.717693Z"
    }
   },
   "source": [
    "# Calculate average time differences per day\n",
    "average_time_diff_per_day = merged_df.groupby('Day')['Time_Difference'].mean()\n",
    "\n",
    "# Display the average time differences\n",
    "print(\"\\nAverage Time Differences per Day:\")\n",
    "print(average_time_diff_per_day)"
   ],
   "outputs": [
    {
     "ename": "NameError",
     "evalue": "name 'merged_df' is not defined",
     "output_type": "error",
     "traceback": [
      "\u001B[0;31m---------------------------------------------------------------------------\u001B[0m",
      "\u001B[0;31mNameError\u001B[0m                                 Traceback (most recent call last)",
      "Cell \u001B[0;32mIn[9], line 2\u001B[0m\n\u001B[1;32m      1\u001B[0m \u001B[38;5;66;03m# Calculate average time differences per day\u001B[39;00m\n\u001B[0;32m----> 2\u001B[0m average_time_diff_per_day \u001B[38;5;241m=\u001B[39m \u001B[43mmerged_df\u001B[49m\u001B[38;5;241m.\u001B[39mgroupby(\u001B[38;5;124m'\u001B[39m\u001B[38;5;124mDay\u001B[39m\u001B[38;5;124m'\u001B[39m)[\u001B[38;5;124m'\u001B[39m\u001B[38;5;124mTime_Difference\u001B[39m\u001B[38;5;124m'\u001B[39m]\u001B[38;5;241m.\u001B[39mmean()\n\u001B[1;32m      4\u001B[0m \u001B[38;5;66;03m# Display the average time differences\u001B[39;00m\n\u001B[1;32m      5\u001B[0m \u001B[38;5;28mprint\u001B[39m(\u001B[38;5;124m\"\u001B[39m\u001B[38;5;130;01m\\n\u001B[39;00m\u001B[38;5;124mAverage Time Differences per Day:\u001B[39m\u001B[38;5;124m\"\u001B[39m)\n",
      "\u001B[0;31mNameError\u001B[0m: name 'merged_df' is not defined"
     ]
    }
   ],
   "execution_count": 9
  },
  {
   "cell_type": "code",
   "metadata": {
    "ExecuteTime": {
     "end_time": "2024-07-17T02:50:24.016337Z",
     "start_time": "2024-07-17T02:50:23.980708Z"
    }
   },
   "source": [
    "# Plot the average time differences per day\n",
    "plt.figure(figsize=(10, 6))\n",
    "average_time_diff_per_day.plot(kind='bar', color='skyblue')\n",
    "plt.title('Average Time Differences per Day')\n",
    "plt.xlabel('Day')\n",
    "plt.ylabel('Average Time Difference (s)')\n",
    "plt.grid(True)\n",
    "plt.show()\n"
   ],
   "outputs": [
    {
     "ename": "NameError",
     "evalue": "name 'average_time_diff_per_day' is not defined",
     "output_type": "error",
     "traceback": [
      "\u001B[0;31m---------------------------------------------------------------------------\u001B[0m",
      "\u001B[0;31mNameError\u001B[0m                                 Traceback (most recent call last)",
      "Cell \u001B[0;32mIn[10], line 3\u001B[0m\n\u001B[1;32m      1\u001B[0m \u001B[38;5;66;03m# Plot the average time differences per day\u001B[39;00m\n\u001B[1;32m      2\u001B[0m plt\u001B[38;5;241m.\u001B[39mfigure(figsize\u001B[38;5;241m=\u001B[39m(\u001B[38;5;241m10\u001B[39m, \u001B[38;5;241m6\u001B[39m))\n\u001B[0;32m----> 3\u001B[0m \u001B[43maverage_time_diff_per_day\u001B[49m\u001B[38;5;241m.\u001B[39mplot(kind\u001B[38;5;241m=\u001B[39m\u001B[38;5;124m'\u001B[39m\u001B[38;5;124mbar\u001B[39m\u001B[38;5;124m'\u001B[39m, color\u001B[38;5;241m=\u001B[39m\u001B[38;5;124m'\u001B[39m\u001B[38;5;124mskyblue\u001B[39m\u001B[38;5;124m'\u001B[39m)\n\u001B[1;32m      4\u001B[0m plt\u001B[38;5;241m.\u001B[39mtitle(\u001B[38;5;124m'\u001B[39m\u001B[38;5;124mAverage Time Differences per Day\u001B[39m\u001B[38;5;124m'\u001B[39m)\n\u001B[1;32m      5\u001B[0m plt\u001B[38;5;241m.\u001B[39mxlabel(\u001B[38;5;124m'\u001B[39m\u001B[38;5;124mDay\u001B[39m\u001B[38;5;124m'\u001B[39m)\n",
      "\u001B[0;31mNameError\u001B[0m: name 'average_time_diff_per_day' is not defined"
     ]
    },
    {
     "data": {
      "text/plain": [
       "<Figure size 1000x600 with 0 Axes>"
      ]
     },
     "metadata": {},
     "output_type": "display_data"
    }
   ],
   "execution_count": 10
  },
  {
   "cell_type": "markdown",
   "metadata": {},
   "source": [
    "Copy and paste this code into a Jupyter notebook. Make sure to place your Stim_Times.xlsx and USV_Times.xlsx files in the same directory as your notebook or provide the correct path to these files. This code will load the data, merge the DataFrames on the day column, compute time differences, and generate the requested visualizations."
   ]
  },
  {
   "metadata": {},
   "cell_type": "code",
   "outputs": [],
   "execution_count": null,
   "source": ""
  }
 ],
 "metadata": {
  "kernelspec": {
   "display_name": "Python 3",
   "language": "python",
   "name": "python3"
  },
  "language_info": {
   "codemirror_mode": {
    "name": "ipython",
    "version": 3
   },
   "file_extension": ".py",
   "mimetype": "text/x-python",
   "name": "python",
   "nbconvert_exporter": "python",
   "pygments_lexer": "ipython3",
   "version": "3.12.4"
  }
 },
 "nbformat": 4,
 "nbformat_minor": 2
}
