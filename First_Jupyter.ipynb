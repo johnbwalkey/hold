{
 "cells": [
  {
   "cell_type": "markdown",
   "metadata": {},
   "source": [
    "my first Jupyter notebook\n"
   ]
  },
  {
   "cell_type": "code",
   "execution_count": 1,
   "metadata": {},
   "outputs": [
    {
     "name": "stdout",
     "output_type": "stream",
     "text": [
      "hello world\n"
     ]
    }
   ],
   "source": [
    "print (\"hello world\")"
   ]
  },
  {
   "cell_type": "markdown",
   "metadata": {},
   "source": [
    "# generate a list of numbers --  Getting Help from Copilot !!!!! (From Newman stuff AI video on youtube AI_Assisted coding)"
   ]
  },
  {
   "cell_type": "code",
   "execution_count": 1,
   "metadata": {},
   "outputs": [
    {
     "name": "stdout",
     "output_type": "stream",
     "text": [
      "[1, 2, 3, 4, 5, 6, 7, 8, 9, 10]\n",
      "55\n",
      "[9, 4, 6, 1, 7, 10, 5, 3, 6, 7]\n",
      "10\n",
      "['Monday', 'Tuesday', 'Wednesday', 'Thursday', 'Friday', 'Saturday', 'Sunday']\n"
     ]
    }
   ],
   "source": [
    "# generate a list of numbers from 1 to 10\n",
    "# print list of numbers\n",
    "# print the sum of the numbers\n",
    "\n",
    "numbers = list(range(1,11))\n",
    "print(numbers)\n",
    "print(sum(numbers))\n",
    "\n",
    "# creat a list of 10 randon numbers from 1 to 10\n",
    "# print the list\n",
    "\n",
    "import random\n",
    "random_numbers = [random.randint(1,10) for i in range(10)]\n",
    "print(random_numbers)\n",
    "\n",
    "# confirm the list has 10 numbers\n",
    "print(len(random_numbers))\n",
    "\n",
    "# print days of the week\n",
    "days = [\"Monday\", \"Tuesday\", \"Wednesday\", \"Thursday\", \"Friday\", \"Saturday\", \"Sunday\"]\n",
    "print(days)\n",
    "\n",
    "\n",
    "\n"
   ]
  },
  {
   "cell_type": "code",
   "execution_count": null,
   "metadata": {},
   "outputs": [],
   "source": []
  }
 ],
 "metadata": {
  "kernelspec": {
   "display_name": "Python 3 (ipykernel)",
   "language": "python",
   "name": "python3"
  },
  "language_info": {
   "codemirror_mode": {
    "name": "ipython",
    "version": 3
   },
   "file_extension": ".py",
   "mimetype": "text/x-python",
   "name": "python",
   "nbconvert_exporter": "python",
   "pygments_lexer": "ipython3",
   "version": "3.12.4"
  }
 },
 "nbformat": 4,
 "nbformat_minor": 4
}
