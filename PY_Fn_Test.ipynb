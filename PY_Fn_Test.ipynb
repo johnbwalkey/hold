{
 "cells": [
  {
   "cell_type": "markdown",
   "metadata": {},
   "source": [
    "#   Test file for Python functions"
   ]
  },
  {
   "cell_type": "code",
   "execution_count": 1,
   "metadata": {},
   "outputs": [
    {
     "name": "stdout",
     "output_type": "stream",
     "text": [
      "x(i)\n",
      "1\n",
      "x(i)\n",
      "2\n",
      "x(i)\n",
      "3\n",
      "x(i)\n",
      "4\n"
     ]
    }
   ],
   "source": [
    "for i in range(1, 5):\n",
    "    print(\"x(i)\")\n",
    "    print(i)\n"
   ]
  },
  {
   "cell_type": "code",
   "execution_count": 2,
   "metadata": {},
   "outputs": [
    {
     "name": "stdout",
     "output_type": "stream",
     "text": [
      "1\n",
      "2\n",
      "3\n",
      "4\n"
     ]
    }
   ],
   "source": [
    "for i in range(1, 5):\n",
    "    (\"x(i)\")\n",
    "    print(i)\n"
   ]
  },
  {
   "cell_type": "code",
   "execution_count": 3,
   "metadata": {},
   "outputs": [
    {
     "name": "stdout",
     "output_type": "stream",
     "text": [
      "2\n",
      "4\n",
      "6\n",
      "8\n"
     ]
    }
   ],
   "source": [
    "for i in range(2, 10, 2):\n",
    "    print (i)\n",
    "    i =+ 1\n"
   ]
  },
  {
   "cell_type": "code",
   "execution_count": 4,
   "metadata": {},
   "outputs": [
    {
     "name": "stdout",
     "output_type": "stream",
     "text": [
      "6\n"
     ]
    }
   ],
   "source": [
    "import random\n",
    "\n",
    "random_integer = random.randint(1, 10)\n",
    "print(random_integer)"
   ]
  },
  {
   "cell_type": "code",
   "execution_count": 5,
   "metadata": {},
   "outputs": [
    {
     "name": "stdout",
     "output_type": "stream",
     "text": [
      "1\n",
      "2\n",
      "3\n",
      "4\n",
      "5\n",
      "[1, 2, 3, 4, 5]\n"
     ]
    }
   ],
   "source": [
    "numbers = []\n",
    "for i in range(1, 6):\n",
    "    numbers.append(i)\n",
    "    print (i)\n",
    "print(numbers)\n",
    "\n"
   ]
  },
  {
   "cell_type": "markdown",
   "metadata": {},
   "source": [
    "## load data from xlsx file into data frame"
   ]
  },
  {
   "cell_type": "code",
   "execution_count": 6,
   "metadata": {},
   "outputs": [],
   "source": [
    "# pip install pandas openpyxl\n",
    "import pandas as pd\n",
    "import openpyxl"
   ]
  },
  {
   "cell_type": "code",
   "execution_count": 7,
   "metadata": {},
   "outputs": [],
   "source": [
    "# Replace 'file_name.xlsx' with the path to your Excel file\n",
    "df = pd.read_excel('Exp1_Rat2_4days_USVs.xlsx', engine='openpyxl')\n",
    "# data file in same folder as script"
   ]
  },
  {
   "cell_type": "code",
   "execution_count": 8,
   "metadata": {},
   "outputs": [
    {
     "name": "stdout",
     "output_type": "stream",
     "text": [
      "          d1        d2        d3        d4\n",
      "0  12.684981  0.130972  0.858402  0.493067\n",
      "1  13.463438  0.637824  0.989372  0.604325\n",
      "2  14.263353  1.355964  1.229920  0.873382\n",
      "3  14.873561  1.786865  1.619241  1.600951\n",
      "4  15.073687  1.934429  3.106936  2.034285\n"
     ]
    }
   ],
   "source": [
    "# Preview the first few rows to check column names\n",
    "print(df.head())"
   ]
  },
  {
   "cell_type": "code",
   "execution_count": 9,
   "metadata": {},
   "outputs": [],
   "source": [
    "# Access columns using the correct names as verified\n",
    "d1 = df['d1']\n",
    "d2 = df['d2']\n",
    "d3 = df['d3']\n",
    "d4 = df['d4']"
   ]
  },
  {
   "cell_type": "code",
   "execution_count": 10,
   "metadata": {},
   "outputs": [
    {
     "name": "stdout",
     "output_type": "stream",
     "text": [
      "             d1          d2        d3        d4\n",
      "0     12.684981    0.130972  0.858402  0.493067\n",
      "1     13.463438    0.637824  0.989372  0.604325\n",
      "2     14.263353    1.355964  1.229920  0.873382\n",
      "3     14.873561    1.786865  1.619241  1.600951\n",
      "4     15.073687    1.934429  3.106936  2.034285\n",
      "...         ...         ...       ...       ...\n",
      "1372        NaN  612.562865       NaN       NaN\n",
      "1373        NaN  612.651299       NaN       NaN\n",
      "1374        NaN  613.181939       NaN       NaN\n",
      "1375        NaN  613.789961       NaN       NaN\n",
      "1376        NaN  614.240193       NaN       NaN\n",
      "\n",
      "[1377 rows x 4 columns]\n"
     ]
    }
   ],
   "source": [
    "# To display the entire DataFrame\n",
    "print(df)"
   ]
  },
  {
   "cell_type": "code",
   "execution_count": 11,
   "metadata": {},
   "outputs": [
    {
     "name": "stdout",
     "output_type": "stream",
     "text": [
      "d1      24\n",
      "d2    1377\n",
      "d3     969\n",
      "d4    1098\n",
      "dtype: int64\n"
     ]
    }
   ],
   "source": [
    "# Calculate the number of non-null entries in each column\n",
    "entries_per_column = df.count()\n",
    "\n",
    "# Display the number of entries per column\n",
    "print(entries_per_column)"
   ]
  },
  {
   "cell_type": "code",
   "execution_count": 12,
   "metadata": {},
   "outputs": [],
   "source": [
    "# Now we can calculate the mean of each column\n",
    "mean_d1 = d1.mean()\n",
    "mean_d2 = d2.mean()\n",
    "mean_d3 = d3.mean() \n",
    "mean_d4 = d4.mean()\n"
   ]
  },
  {
   "cell_type": "code",
   "execution_count": 13,
   "metadata": {},
   "outputs": [
    {
     "name": "stdout",
     "output_type": "stream",
     "text": [
      "245.54092341143055\n",
      "332.78789841931695\n",
      "271.2708180383862\n",
      "288.24716559197066\n"
     ]
    }
   ],
   "source": [
    "# show the mean of each column\n",
    "print(mean_d1)\n",
    "print(mean_d2)\n",
    "print(mean_d3)\n",
    "print(mean_d4)\n"
   ]
  },
  {
   "cell_type": "code",
   "execution_count": 14,
   "metadata": {},
   "outputs": [
    {
     "name": "stdout",
     "output_type": "stream",
     "text": [
      "4.092348723523844\n",
      "5.546464973655281\n",
      "4.521180300639771\n",
      "4.804119426532845\n"
     ]
    }
   ],
   "source": [
    "# the data is in seconds convert to minutes of each sheet\n",
    "d1_min = d1 / 60\n",
    "d2_min = d2 / 60\n",
    "d3_min = d3 / 60\n",
    "d4_min = d4 / 60\n",
    "\n",
    "# show the mean of each column in minutes\n",
    "print(d1_min.mean())\n",
    "print(d2_min.mean())\n",
    "print(d3_min.mean())\n",
    "print(d4_min.mean())\n",
    "\n",
    "\n",
    "\n",
    "\n",
    "\n"
   ]
  },
  {
   "cell_type": "code",
   "execution_count": 15,
   "metadata": {},
   "outputs": [
    {
     "data": {
      "image/png": "[encoded data removed]",
      "text/plain": [
       "<Figure size 640x480 with 1 Axes>"
      ]
     },
     "metadata": {},
     "output_type": "display_data"
    }
   ],
   "source": [
    "# graph the data\n",
    "import matplotlib.pyplot as plt\n",
    "\n",
    "# Create a figure and axis\n",
    "fig, ax = plt.subplots()\n",
    "\n",
    "# Plot the data\n",
    "ax.plot(d1_min, label='Day 1')\n",
    "ax.plot(d2_min, label='Day 2')\n",
    "ax.plot(d3_min, label='Day 3')\n",
    "ax.plot(d4_min, label='Day 4')\n",
    "\n",
    "# Add a title and labels\n",
    "ax.set_title('USVs per minute')\n",
    "ax.set_xlabel('Time (minutes)')\n",
    "ax.set_ylabel('USVs')\n",
    "\n",
    "# Add a legend\n",
    "ax.legend()\n",
    "\n",
    "# Show the plot\n",
    "plt.show()"
   ]
  }
 ],
 "metadata": {
  "kernelspec": {
   "display_name": "Python 3",
   "language": "python",
   "name": "python3"
  },
  "language_info": {
   "codemirror_mode": {
    "name": "ipython",
    "version": 3
   },
   "file_extension": ".py",
   "mimetype": "text/x-python",
   "name": "python",
   "nbconvert_exporter": "python",
   "pygments_lexer": "ipython3",
   "version": "3.12.4"
  }
 },
 "nbformat": 4,
 "nbformat_minor": 2
}
