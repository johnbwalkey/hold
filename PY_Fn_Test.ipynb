{
 "cells": [
  {
   "cell_type": "markdown",
   "metadata": {},
   "source": [
    "#   Test file for Python functions"
   ]
  },
  {
   "cell_type": "code",
   "execution_count": 37,
   "metadata": {},
   "outputs": [
    {
     "name": "stdout",
     "output_type": "stream",
     "text": [
      "x(i)\n",
      "1\n",
      "x(i)\n",
      "2\n",
      "x(i)\n",
      "3\n",
      "x(i)\n",
      "4\n"
     ]
    }
   ],
   "source": [
    "for i in range(1, 5):\n",
    "    print(\"x(i)\")\n",
    "    print(i)\n"
   ]
  },
  {
   "cell_type": "code",
   "execution_count": 38,
   "metadata": {},
   "outputs": [
    {
     "name": "stdout",
     "output_type": "stream",
     "text": [
      "1\n",
      "2\n",
      "3\n",
      "4\n"
     ]
    }
   ],
   "source": [
    "for i in range(1, 5):\n",
    "    (\"x(i)\")\n",
    "    print(i)\n"
   ]
  },
  {
   "cell_type": "code",
   "execution_count": 39,
   "metadata": {},
   "outputs": [
    {
     "name": "stdout",
     "output_type": "stream",
     "text": [
      "2\n",
      "4\n",
      "6\n",
      "8\n"
     ]
    }
   ],
   "source": [
    "for i in range(2, 10, 2):\n",
    "    print (i)\n",
    "    i =+ 1\n"
   ]
  },
  {
   "cell_type": "code",
   "execution_count": 40,
   "metadata": {},
   "outputs": [
    {
     "name": "stdout",
     "output_type": "stream",
     "text": [
      "1\n"
     ]
    }
   ],
   "source": [
    "import random\n",
    "\n",
    "random_integer = random.randint(1, 10)\n",
    "print(random_integer)"
   ]
  },
  {
   "cell_type": "code",
   "execution_count": 41,
   "metadata": {},
   "outputs": [
    {
     "name": "stdout",
     "output_type": "stream",
     "text": [
      "1\n",
      "2\n",
      "3\n",
      "4\n",
      "5\n",
      "[1, 2, 3, 4, 5]\n"
     ]
    }
   ],
   "source": [
    "numbers = []\n",
    "for i in range(1, 6):\n",
    "    numbers.append(i)\n",
    "    print (i)\n",
    "print(numbers)\n",
    "\n"
   ]
  },
  {
   "cell_type": "markdown",
   "metadata": {},
   "source": [
    "## load data from xlsx file into data frame"
   ]
  },
  {
   "cell_type": "code",
   "execution_count": 42,
   "metadata": {},
   "outputs": [],
   "source": [
    "# pip install pandas openpyxl\n",
    "import pandas as pd\n",
    "import openpyxl"
   ]
  },
  {
   "cell_type": "code",
   "execution_count": 43,
   "metadata": {},
   "outputs": [],
   "source": [
    "# Replace 'your_file.xlsx' with the path to your Excel file\n",
    "df = pd.read_excel('Exp1_Rat2_4days_USVs.xlsx', engine='openpyxl')\n"
   ]
  },
  {
   "cell_type": "code",
   "execution_count": 44,
   "metadata": {},
   "outputs": [
    {
     "name": "stdout",
     "output_type": "stream",
     "text": [
      "          d1        d2        d3        d4\n",
      "0  12.684981  0.130972  0.858402  0.493067\n",
      "1  13.463438  0.637824  0.989372  0.604325\n",
      "2  14.263353  1.355964  1.229920  0.873382\n",
      "3  14.873561  1.786865  1.619241  1.600951\n",
      "4  15.073687  1.934429  3.106936  2.034285\n"
     ]
    }
   ],
   "source": [
    "# Preview the first few rows to check column names\n",
    "print(df.head())"
   ]
  },
  {
   "cell_type": "code",
   "execution_count": 45,
   "metadata": {},
   "outputs": [],
   "source": [
    "# Access columns using the correct names as verified\n",
    "d1 = df['d1']\n",
    "d2 = df['d2']\n",
    "d3 = df['d3']\n",
    "d4 = df['d4']"
   ]
  },
  {
   "cell_type": "code",
   "execution_count": 46,
   "metadata": {},
   "outputs": [
    {
     "name": "stdout",
     "output_type": "stream",
     "text": [
      "             d1          d2        d3        d4\n",
      "0     12.684981    0.130972  0.858402  0.493067\n",
      "1     13.463438    0.637824  0.989372  0.604325\n",
      "2     14.263353    1.355964  1.229920  0.873382\n",
      "3     14.873561    1.786865  1.619241  1.600951\n",
      "4     15.073687    1.934429  3.106936  2.034285\n",
      "...         ...         ...       ...       ...\n",
      "1372        NaN  612.562865       NaN       NaN\n",
      "1373        NaN  612.651299       NaN       NaN\n",
      "1374        NaN  613.181939       NaN       NaN\n",
      "1375        NaN  613.789961       NaN       NaN\n",
      "1376        NaN  614.240193       NaN       NaN\n",
      "\n",
      "[1377 rows x 4 columns]\n"
     ]
    }
   ],
   "source": [
    "# To display the entire DataFrame\n",
    "print(df)"
   ]
  },
  {
   "cell_type": "code",
   "execution_count": 47,
   "metadata": {},
   "outputs": [
    {
     "name": "stdout",
     "output_type": "stream",
     "text": [
      "d1      24\n",
      "d2    1377\n",
      "d3     969\n",
      "d4    1098\n",
      "dtype: int64\n"
     ]
    }
   ],
   "source": [
    "# Calculate the number of non-null entries in each column\n",
    "entries_per_column = df.count()\n",
    "\n",
    "# Display the number of entries per column\n",
    "print(entries_per_column)"
   ]
  },
  {
   "cell_type": "code",
   "execution_count": 49,
   "metadata": {},
   "outputs": [],
   "source": [
    "# Now we can calculate the mean of each column\n",
    "mean_d1 = d1.mean()\n",
    "mean_d2 = d2.mean()\n",
    "mean_d3 = d3.mean() \n",
    "mean_d4 = d4.mean()\n"
   ]
  },
  {
   "cell_type": "code",
   "execution_count": 50,
   "metadata": {},
   "outputs": [
    {
     "name": "stdout",
     "output_type": "stream",
     "text": [
      "245.54092341143055\n",
      "332.78789841931695\n",
      "271.2708180383862\n",
      "288.24716559197066\n"
     ]
    }
   ],
   "source": [
    "# show the mean of each column\n",
    "print(mean_d1)\n",
    "print(mean_d2)\n",
    "print(mean_d3)\n",
    "print(mean_d4)\n"
   ]
  },
  {
   "cell_type": "markdown",
   "metadata": {},
   "source": [
    "How can I write the extracted columns from a DataFrame into a new Excel file?"
   ]
  },
  {
   "cell_type": "code",
   "execution_count": null,
   "metadata": {},
   "outputs": [],
   "source": [
    "import pandas as pd\n",
    "# pip install openpyxl if necessary\n",
    "# Assuming column1, column2, column3, and column4 are already defined\n",
    "# Combine them into a new DataFrame\n",
    "new_df = pd.DataFrame({\n",
    "    'Column1': column1,\n",
    "    'Column2': column2,\n",
    "    'Column3': column3,\n",
    "    'Column4': column4\n",
    "})\n",
    "\n",
    "# Write the new DataFrame to an Excel file\n",
    "# Replace 'new_file.xlsx' with your desired file name\n",
    "new_df.to_excel('new_file.xlsx', index=False, engine='openpyxl')"
   ]
  }
 ],
 "metadata": {
  "kernelspec": {
   "display_name": "Python 3",
   "language": "python",
   "name": "python3"
  },
  "language_info": {
   "codemirror_mode": {
    "name": "ipython",
    "version": 3
   },
   "file_extension": ".py",
   "mimetype": "text/x-python",
   "name": "python",
   "nbconvert_exporter": "python",
   "pygments_lexer": "ipython3",
   "version": "3.12.4"
  }
 },
 "nbformat": 4,
 "nbformat_minor": 2
}
