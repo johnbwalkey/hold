{
  "nbformat": 4,
  "nbformat_minor": 0,
  "metadata": {
    "colab": {
      "provenance": [],
      "authorship_tag": "ABX9TyPGD0/rbQVdN/gyryQTwiac",
      "include_colab_link": true
    },
    "kernelspec": {
      "name": "python3",
      "display_name": "Python 3"
    },
    "language_info": {
      "name": "python"
    }
  },
  "cells": [
    {
      "cell_type": "markdown",
      "metadata": {
        "id": "view-in-github",
        "colab_type": "text"
      },
      "source": [
        "<a href=\"https://colab.research.google.com/github/johnbwalkey/hold/blob/main/Demo_from_JK_Eg.ipynb\" target=\"_parent\"><img src=\"https://colab.research.google.com/assets/colab-badge.svg\" alt=\"Open In Colab\"/></a>"
      ]
    },
    {
      "cell_type": "code",
      "execution_count": 2,
      "metadata": {
        "id": "84kzOo_4gjpt"
      },
      "outputs": [],
      "source": [
        "# test from video ideas in goolgle colab"
      ]
    },
    {
      "cell_type": "markdown",
      "source": [
        "https://www.youtube.com/watch?v=IFsCwfCzSpM"
      ],
      "metadata": {
        "id": "Op2FphJKgzE2"
      }
    },
    {
      "cell_type": "code",
      "source": [
        "1+1"
      ],
      "metadata": {
        "colab": {
          "base_uri": "https://localhost:8080/"
        },
        "id": "O_3yOTZdg6Ac",
        "outputId": "0b4615f5-e000-448a-90f8-c882291354fb"
      },
      "execution_count": 3,
      "outputs": [
        {
          "output_type": "execute_result",
          "data": {
            "text/plain": [
              "2"
            ]
          },
          "metadata": {},
          "execution_count": 3
        }
      ]
    },
    {
      "cell_type": "code",
      "source": [],
      "metadata": {
        "id": "I-4z_5XnhN90"
      },
      "execution_count": 3,
      "outputs": []
    },
    {
      "cell_type": "markdown",
      "source": [
        "import sympy"
      ],
      "metadata": {
        "id": "Td2y_7TgiWuy"
      }
    },
    {
      "cell_type": "code",
      "source": [
        "import sympy"
      ],
      "metadata": {
        "id": "x-VWwc8fjRLR"
      },
      "execution_count": 4,
      "outputs": []
    },
    {
      "cell_type": "code",
      "source": [
        "sympy.init_printing()"
      ],
      "metadata": {
        "id": "ftkbqsvujk2E"
      },
      "execution_count": 5,
      "outputs": []
    },
    {
      "cell_type": "code",
      "source": [
        "from sympy import sin, pi"
      ],
      "metadata": {
        "id": "SPNHVGi0jvUt"
      },
      "execution_count": 7,
      "outputs": []
    },
    {
      "cell_type": "code",
      "source": [
        "sin(pi)\n"
      ],
      "metadata": {
        "colab": {
          "base_uri": "https://localhost:8080/",
          "height": 37
        },
        "id": "itS16LQAkaBL",
        "outputId": "92edcff6-ef0b-4455-83c5-9cde69d6b8bf"
      },
      "execution_count": 8,
      "outputs": [
        {
          "output_type": "execute_result",
          "data": {
            "text/plain": [
              "0"
            ],
            "text/latex": "$\\displaystyle 0$"
          },
          "metadata": {},
          "execution_count": 8
        }
      ]
    },
    {
      "cell_type": "code",
      "source": [
        "import sympy as sym\n"
      ],
      "metadata": {
        "id": "7eDo1caFkqsb"
      },
      "execution_count": 9,
      "outputs": []
    },
    {
      "cell_type": "code",
      "source": [
        "sym.cos(pi)"
      ],
      "metadata": {
        "colab": {
          "base_uri": "https://localhost:8080/",
          "height": 37
        },
        "id": "Fa5yFN-kkvc_",
        "outputId": "1bd425b7-3b48-4d05-e0dc-4d89b97322fb"
      },
      "execution_count": 11,
      "outputs": [
        {
          "output_type": "execute_result",
          "data": {
            "text/plain": [
              "-1"
            ],
            "text/latex": "$\\displaystyle -1$"
          },
          "metadata": {},
          "execution_count": 11
        }
      ]
    },
    {
      "cell_type": "markdown",
      "source": [
        "Yes, you can do the mathematics in your textbook using Python. From algebra to calculus, to linear algebra, and so much more.\n",
        "\n",
        "In this short video lecture I explain the basics of the Python language and then how you can set up your Google Drive to use Python to start doing mathematics. You do not have to install anything. If you do want to set up your own computer to use Python for mathematics, watch out for a video that I will release later.\n",
        "\n",
        "If you want to try out some algebra using Python, you can view my 10 lecture notes available at https://blogs.gwu.edu/juanklopper/edu... This course is a short introduction to algebra."
      ],
      "metadata": {
        "id": "iKCsvC-alHOF"
      }
    },
    {
      "cell_type": "code",
      "source": [],
      "metadata": {
        "id": "6roTH8XtlJdD"
      },
      "execution_count": null,
      "outputs": []
    }
  ]
}