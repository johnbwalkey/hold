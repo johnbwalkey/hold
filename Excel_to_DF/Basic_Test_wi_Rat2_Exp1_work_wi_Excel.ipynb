{
 "cells": [
  {
   "cell_type": "markdown",
   "metadata": {},
   "source": [
    "## Working with Excel file (or files) and data in Python\n",
    "## create a pandas data frame with the info\n",
    "### Some ideas (https://www.youtube.com/watch?v=_hoikz17n94)"
   ]
  },
  {
   "cell_type": "markdown",
   "metadata": {},
   "source": [
    "In Python, a DataFrame and a list are both ways to handle data, but they serve different purposes and have different features. Here are the main differences:\n",
    "List\n",
    "1.\tDefinition: A list is a collection of items that can be of any type (integers, strings, objects, etc.).\n",
    "2.\tStructure: Lists are one-dimensional and can contain multiple types of data.\n",
    "3.\tUsage: Lists are used for simple data storage and manipulation, such as storing a sequence of items.\n",
    "4.\tIndexing: Lists support indexing and slicing to access and modify elements.\n",
    "5.\tOperations: Lists support operations like appending, removing, and sorting elements.\n",
    "6.\tLibraries: Lists are part of the core Python language and do not require additional libraries.\n",
    "Example:\n",
    "my_list = [1, 2, 3, 'four', 5.0]\n",
    "print(my_list[0])  # Output: 1\n",
    "\n",
    "DataFrame\n",
    "1.\tDefinition: A DataFrame is a 2-dimensional labeled data structure with columns of potentially different types, similar to a table in a database or an Excel spreadsheet.\n",
    "2.\tStructure: DataFrames have rows and columns, making them suitable for representing tabular data.\n",
    "3.\tUsage: DataFrames are used for complex data manipulation and analysis, especially with large datasets.\n",
    "4.\tIndexing: DataFrames support both row and column indexing, including label-based and integer-based indexing.\n",
    "5.\tOperations: DataFrames support a wide range of operations, including filtering, grouping, merging, and statistical analysis.\n",
    "6.\tLibraries: DataFrames are provided by the pandas library, which must be installed separately.\n",
    "Example:\n",
    "import pandas as pd\n",
    "\n",
    "data = {'Column1': [1, 2, 3], 'Column2': ['A', 'B', 'C']}\n",
    "df = pd.DataFrame(data)\n",
    "print(df)\n",
    "### Output:\n",
    "###   Column1 Column2\n",
    "### 0        1       A\n",
    "### 1        2       B\n"
   ]
  },
  {
   "cell_type": "code",
   "execution_count": 25,
   "metadata": {},
   "outputs": [],
   "source": [
    "# bring in the libraries needed with respective aliases\n",
    "import pandas as pd\n",
    "import numpy as np\n",
    "import matplotlib.pyplot as plt\n",
    "import seaborn as sns\n",
    "# pip install pandas openpyxl\n",
    "# https://pandas.pydata.org/docs/reference/api/pandas.read_excel.html"
   ]
  },
  {
   "cell_type": "code",
   "execution_count": 4,
   "metadata": {},
   "outputs": [
    {
     "data": {
      "text/html": [
       "<div>\n",
       "<style scoped>\n",
       "    .dataframe tbody tr th:only-of-type {\n",
       "        vertical-align: middle;\n",
       "    }\n",
       "\n",
       "    .dataframe tbody tr th {\n",
       "        vertical-align: top;\n",
       "    }\n",
       "\n",
       "    .dataframe thead th {\n",
       "        text-align: right;\n",
       "    }\n",
       "</style>\n",
       "<table border=\"1\" class=\"dataframe\">\n",
       "  <thead>\n",
       "    <tr style=\"text-align: right;\">\n",
       "      <th></th>\n",
       "      <th>d1</th>\n",
       "      <th>d2</th>\n",
       "      <th>d3</th>\n",
       "      <th>d4</th>\n",
       "    </tr>\n",
       "  </thead>\n",
       "  <tbody>\n",
       "    <tr>\n",
       "      <th>0</th>\n",
       "      <td>12.68</td>\n",
       "      <td>0.13</td>\n",
       "      <td>0.86</td>\n",
       "      <td>0.49</td>\n",
       "    </tr>\n",
       "    <tr>\n",
       "      <th>1</th>\n",
       "      <td>13.46</td>\n",
       "      <td>0.64</td>\n",
       "      <td>0.99</td>\n",
       "      <td>0.60</td>\n",
       "    </tr>\n",
       "    <tr>\n",
       "      <th>2</th>\n",
       "      <td>14.26</td>\n",
       "      <td>1.36</td>\n",
       "      <td>1.23</td>\n",
       "      <td>0.87</td>\n",
       "    </tr>\n",
       "    <tr>\n",
       "      <th>3</th>\n",
       "      <td>14.87</td>\n",
       "      <td>1.79</td>\n",
       "      <td>1.62</td>\n",
       "      <td>1.60</td>\n",
       "    </tr>\n",
       "    <tr>\n",
       "      <th>4</th>\n",
       "      <td>15.07</td>\n",
       "      <td>1.93</td>\n",
       "      <td>3.11</td>\n",
       "      <td>2.03</td>\n",
       "    </tr>\n",
       "    <tr>\n",
       "      <th>...</th>\n",
       "      <td>...</td>\n",
       "      <td>...</td>\n",
       "      <td>...</td>\n",
       "      <td>...</td>\n",
       "    </tr>\n",
       "    <tr>\n",
       "      <th>1372</th>\n",
       "      <td>NaN</td>\n",
       "      <td>612.56</td>\n",
       "      <td>NaN</td>\n",
       "      <td>NaN</td>\n",
       "    </tr>\n",
       "    <tr>\n",
       "      <th>1373</th>\n",
       "      <td>NaN</td>\n",
       "      <td>612.65</td>\n",
       "      <td>NaN</td>\n",
       "      <td>NaN</td>\n",
       "    </tr>\n",
       "    <tr>\n",
       "      <th>1374</th>\n",
       "      <td>NaN</td>\n",
       "      <td>613.18</td>\n",
       "      <td>NaN</td>\n",
       "      <td>NaN</td>\n",
       "    </tr>\n",
       "    <tr>\n",
       "      <th>1375</th>\n",
       "      <td>NaN</td>\n",
       "      <td>613.79</td>\n",
       "      <td>NaN</td>\n",
       "      <td>NaN</td>\n",
       "    </tr>\n",
       "    <tr>\n",
       "      <th>1376</th>\n",
       "      <td>NaN</td>\n",
       "      <td>614.24</td>\n",
       "      <td>NaN</td>\n",
       "      <td>NaN</td>\n",
       "    </tr>\n",
       "  </tbody>\n",
       "</table>\n",
       "<p>1377 rows × 4 columns</p>\n",
       "</div>"
      ],
      "text/plain": [
       "         d1      d2    d3    d4\n",
       "0     12.68    0.13  0.86  0.49\n",
       "1     13.46    0.64  0.99  0.60\n",
       "2     14.26    1.36  1.23  0.87\n",
       "3     14.87    1.79  1.62  1.60\n",
       "4     15.07    1.93  3.11  2.03\n",
       "...     ...     ...   ...   ...\n",
       "1372    NaN  612.56   NaN   NaN\n",
       "1373    NaN  612.65   NaN   NaN\n",
       "1374    NaN  613.18   NaN   NaN\n",
       "1375    NaN  613.79   NaN   NaN\n",
       "1376    NaN  614.24   NaN   NaN\n",
       "\n",
       "[1377 rows x 4 columns]"
      ]
     },
     "execution_count": 4,
     "metadata": {},
     "output_type": "execute_result"
    }
   ],
   "source": [
    "# open file in same folder as ipynb file\n",
    "pd.read_excel('Rat2_Exp1_4_days_USVs.xlsx')"
   ]
  },
  {
   "cell_type": "code",
   "execution_count": 7,
   "metadata": {},
   "outputs": [],
   "source": [
    "# read Excel file into dataframes(change name of sheets if necessary)\n",
    "df_1 = pd.read_excel('Rat2_Exp1_4_days_USVs.xlsx', index_col=0, sheet_name='Sheet1' )\n",
    "# df_2 = pd.read_excel(xlsx,'sheet2')"
   ]
  },
  {
   "cell_type": "code",
   "execution_count": 11,
   "metadata": {},
   "outputs": [
    {
     "data": {
      "text/html": [
       "<div>\n",
       "<style scoped>\n",
       "    .dataframe tbody tr th:only-of-type {\n",
       "        vertical-align: middle;\n",
       "    }\n",
       "\n",
       "    .dataframe tbody tr th {\n",
       "        vertical-align: top;\n",
       "    }\n",
       "\n",
       "    .dataframe thead th {\n",
       "        text-align: right;\n",
       "    }\n",
       "</style>\n",
       "<table border=\"1\" class=\"dataframe\">\n",
       "  <thead>\n",
       "    <tr style=\"text-align: right;\">\n",
       "      <th></th>\n",
       "      <th>d2</th>\n",
       "      <th>d3</th>\n",
       "      <th>d4</th>\n",
       "    </tr>\n",
       "    <tr>\n",
       "      <th>d1</th>\n",
       "      <th></th>\n",
       "      <th></th>\n",
       "      <th></th>\n",
       "    </tr>\n",
       "  </thead>\n",
       "  <tbody>\n",
       "    <tr>\n",
       "      <th>12.68</th>\n",
       "      <td>0.13</td>\n",
       "      <td>0.86</td>\n",
       "      <td>0.49</td>\n",
       "    </tr>\n",
       "    <tr>\n",
       "      <th>13.46</th>\n",
       "      <td>0.64</td>\n",
       "      <td>0.99</td>\n",
       "      <td>0.60</td>\n",
       "    </tr>\n",
       "    <tr>\n",
       "      <th>14.26</th>\n",
       "      <td>1.36</td>\n",
       "      <td>1.23</td>\n",
       "      <td>0.87</td>\n",
       "    </tr>\n",
       "    <tr>\n",
       "      <th>14.87</th>\n",
       "      <td>1.79</td>\n",
       "      <td>1.62</td>\n",
       "      <td>1.60</td>\n",
       "    </tr>\n",
       "    <tr>\n",
       "      <th>15.07</th>\n",
       "      <td>1.93</td>\n",
       "      <td>3.11</td>\n",
       "      <td>2.03</td>\n",
       "    </tr>\n",
       "    <tr>\n",
       "      <th>...</th>\n",
       "      <td>...</td>\n",
       "      <td>...</td>\n",
       "      <td>...</td>\n",
       "    </tr>\n",
       "    <tr>\n",
       "      <th>NaN</th>\n",
       "      <td>612.56</td>\n",
       "      <td>NaN</td>\n",
       "      <td>NaN</td>\n",
       "    </tr>\n",
       "    <tr>\n",
       "      <th>NaN</th>\n",
       "      <td>612.65</td>\n",
       "      <td>NaN</td>\n",
       "      <td>NaN</td>\n",
       "    </tr>\n",
       "    <tr>\n",
       "      <th>NaN</th>\n",
       "      <td>613.18</td>\n",
       "      <td>NaN</td>\n",
       "      <td>NaN</td>\n",
       "    </tr>\n",
       "    <tr>\n",
       "      <th>NaN</th>\n",
       "      <td>613.79</td>\n",
       "      <td>NaN</td>\n",
       "      <td>NaN</td>\n",
       "    </tr>\n",
       "    <tr>\n",
       "      <th>NaN</th>\n",
       "      <td>614.24</td>\n",
       "      <td>NaN</td>\n",
       "      <td>NaN</td>\n",
       "    </tr>\n",
       "  </tbody>\n",
       "</table>\n",
       "<p>1377 rows × 3 columns</p>\n",
       "</div>"
      ],
      "text/plain": [
       "           d2    d3    d4\n",
       "d1                       \n",
       "12.68    0.13  0.86  0.49\n",
       "13.46    0.64  0.99  0.60\n",
       "14.26    1.36  1.23  0.87\n",
       "14.87    1.79  1.62  1.60\n",
       "15.07    1.93  3.11  2.03\n",
       "...       ...   ...   ...\n",
       "NaN    612.56   NaN   NaN\n",
       "NaN    612.65   NaN   NaN\n",
       "NaN    613.18   NaN   NaN\n",
       "NaN    613.79   NaN   NaN\n",
       "NaN    614.24   NaN   NaN\n",
       "\n",
       "[1377 rows x 3 columns]"
      ]
     },
     "execution_count": 11,
     "metadata": {},
     "output_type": "execute_result"
    }
   ],
   "source": [
    "# display dataframes\n",
    "df_1"
   ]
  },
  {
   "cell_type": "code",
   "execution_count": 12,
   "metadata": {},
   "outputs": [
    {
     "data": {
      "text/html": [
       "<div>\n",
       "<style scoped>\n",
       "    .dataframe tbody tr th:only-of-type {\n",
       "        vertical-align: middle;\n",
       "    }\n",
       "\n",
       "    .dataframe tbody tr th {\n",
       "        vertical-align: top;\n",
       "    }\n",
       "\n",
       "    .dataframe thead th {\n",
       "        text-align: right;\n",
       "    }\n",
       "</style>\n",
       "<table border=\"1\" class=\"dataframe\">\n",
       "  <thead>\n",
       "    <tr style=\"text-align: right;\">\n",
       "      <th></th>\n",
       "      <th>A</th>\n",
       "      <th>B</th>\n",
       "      <th>C</th>\n",
       "      <th>D</th>\n",
       "    </tr>\n",
       "  </thead>\n",
       "  <tbody>\n",
       "    <tr>\n",
       "      <th>0</th>\n",
       "      <td>12.68</td>\n",
       "      <td>0.13</td>\n",
       "      <td>0.86</td>\n",
       "      <td>0.49</td>\n",
       "    </tr>\n",
       "    <tr>\n",
       "      <th>1</th>\n",
       "      <td>13.46</td>\n",
       "      <td>0.64</td>\n",
       "      <td>0.99</td>\n",
       "      <td>0.60</td>\n",
       "    </tr>\n",
       "    <tr>\n",
       "      <th>2</th>\n",
       "      <td>14.26</td>\n",
       "      <td>1.36</td>\n",
       "      <td>1.23</td>\n",
       "      <td>0.87</td>\n",
       "    </tr>\n",
       "    <tr>\n",
       "      <th>3</th>\n",
       "      <td>14.87</td>\n",
       "      <td>1.79</td>\n",
       "      <td>1.62</td>\n",
       "      <td>1.60</td>\n",
       "    </tr>\n",
       "    <tr>\n",
       "      <th>4</th>\n",
       "      <td>15.07</td>\n",
       "      <td>1.93</td>\n",
       "      <td>3.11</td>\n",
       "      <td>2.03</td>\n",
       "    </tr>\n",
       "    <tr>\n",
       "      <th>...</th>\n",
       "      <td>...</td>\n",
       "      <td>...</td>\n",
       "      <td>...</td>\n",
       "      <td>...</td>\n",
       "    </tr>\n",
       "    <tr>\n",
       "      <th>1372</th>\n",
       "      <td>NaN</td>\n",
       "      <td>612.56</td>\n",
       "      <td>NaN</td>\n",
       "      <td>NaN</td>\n",
       "    </tr>\n",
       "    <tr>\n",
       "      <th>1373</th>\n",
       "      <td>NaN</td>\n",
       "      <td>612.65</td>\n",
       "      <td>NaN</td>\n",
       "      <td>NaN</td>\n",
       "    </tr>\n",
       "    <tr>\n",
       "      <th>1374</th>\n",
       "      <td>NaN</td>\n",
       "      <td>613.18</td>\n",
       "      <td>NaN</td>\n",
       "      <td>NaN</td>\n",
       "    </tr>\n",
       "    <tr>\n",
       "      <th>1375</th>\n",
       "      <td>NaN</td>\n",
       "      <td>613.79</td>\n",
       "      <td>NaN</td>\n",
       "      <td>NaN</td>\n",
       "    </tr>\n",
       "    <tr>\n",
       "      <th>1376</th>\n",
       "      <td>NaN</td>\n",
       "      <td>614.24</td>\n",
       "      <td>NaN</td>\n",
       "      <td>NaN</td>\n",
       "    </tr>\n",
       "  </tbody>\n",
       "</table>\n",
       "<p>1377 rows × 4 columns</p>\n",
       "</div>"
      ],
      "text/plain": [
       "          A       B     C     D\n",
       "0     12.68    0.13  0.86  0.49\n",
       "1     13.46    0.64  0.99  0.60\n",
       "2     14.26    1.36  1.23  0.87\n",
       "3     14.87    1.79  1.62  1.60\n",
       "4     15.07    1.93  3.11  2.03\n",
       "...     ...     ...   ...   ...\n",
       "1372    NaN  612.56   NaN   NaN\n",
       "1373    NaN  612.65   NaN   NaN\n",
       "1374    NaN  613.18   NaN   NaN\n",
       "1375    NaN  613.79   NaN   NaN\n",
       "1376    NaN  614.24   NaN   NaN\n",
       "\n",
       "[1377 rows x 4 columns]"
      ]
     },
     "execution_count": 12,
     "metadata": {},
     "output_type": "execute_result"
    }
   ],
   "source": [
    "# Read a sheet within an Excel file into a dataframe, renaming columns\n",
    "df_eg = pd.read_excel('Rat2_Exp1_4_days_USVs.xlsx', sheet_name='Sheet1', index_col=None, names=['A','B','C','D'])   \n",
    "df_eg"
   ]
  },
  {
   "cell_type": "code",
   "execution_count": 16,
   "metadata": {},
   "outputs": [],
   "source": [
    "# Save dataframe to an Excel file (https://pandas.pydata.org/docs/reference/api/pandas.DataFrame.to_excel.html)\n",
    "df_eg.to_excel('test_save.xlsx')\n"
   ]
  },
  {
   "cell_type": "code",
   "execution_count": 17,
   "metadata": {},
   "outputs": [
    {
     "name": "stdout",
     "output_type": "stream",
     "text": [
      " Volume in drive C has no label.\n",
      " Volume Serial Number is C65D-EF56\n",
      "\n",
      " Directory of c:\\Users\\john\\OneDrive\\Desktop\\hold\\Excel_to_DF\n",
      "\n",
      "07/18/2024  09:35 AM            39,342 Rat2_Exp1_4_days_USVs.xlsx\n",
      "07/18/2024  10:03 AM            44,676 test_save.xlsx\n",
      "               2 File(s)         84,018 bytes\n",
      "               0 Dir(s)  1,319,771,611,136 bytes free\n"
     ]
    }
   ],
   "source": [
    "ls *.xlsx"
   ]
  },
  {
   "cell_type": "code",
   "execution_count": null,
   "metadata": {},
   "outputs": [],
   "source": [
    "# Save dataframe to a sheet within an Excel file\n",
    "\n",
    "df_eg.to_excel('test_save2.xlsx',sheet_name='Sheet2',index=False)"
   ]
  },
  {
   "cell_type": "code",
   "execution_count": null,
   "metadata": {},
   "outputs": [],
   "source": [
    "# Save dataframe to a CSV file. (https://pandas.pydata.org/docs/reference/api/pandas.DataFrame.to_csv.html)\n",
    "df_eg.to_csv(\"text.csv\", index=False)"
   ]
  },
  {
   "cell_type": "markdown",
   "metadata": {},
   "source": []
  },
  {
   "cell_type": "markdown",
   "metadata": {},
   "source": [
    "## Visualizing Excel data \n",
    "\n",
    "### https://www.youtube.com/watch?v=4F9jnTDvxv0\n",
    "\n",
    "#### install libraries needed (pandas, mathplotlib and Seaborn)"
   ]
  },
  {
   "cell_type": "code",
   "execution_count": 18,
   "metadata": {},
   "outputs": [
    {
     "name": "stdout",
     "output_type": "stream",
     "text": [
      "         d1      d2    d3    d4\n",
      "0     12.68    0.13  0.86  0.49\n",
      "1     13.46    0.64  0.99  0.60\n",
      "2     14.26    1.36  1.23  0.87\n",
      "3     14.87    1.79  1.62  1.60\n",
      "4     15.07    1.93  3.11  2.03\n",
      "...     ...     ...   ...   ...\n",
      "1372    NaN  612.56   NaN   NaN\n",
      "1373    NaN  612.65   NaN   NaN\n",
      "1374    NaN  613.18   NaN   NaN\n",
      "1375    NaN  613.79   NaN   NaN\n",
      "1376    NaN  614.24   NaN   NaN\n",
      "\n",
      "[1377 rows x 4 columns]\n"
     ]
    }
   ],
   "source": [
    "data = pd.read_excel('Rat2_Exp1_4_days_USVs.xlsx')\n",
    "print(data)\n"
   ]
  },
  {
   "cell_type": "code",
   "execution_count": 19,
   "metadata": {},
   "outputs": [
    {
     "name": "stdout",
     "output_type": "stream",
     "text": [
      "      12.68   0.13   0.86   0.49 \n",
      "0     13.46    0.64   0.99   0.60\n",
      "1     14.26    1.36   1.23   0.87\n",
      "2     14.87    1.79   1.62   1.60\n",
      "3     15.07    1.93   3.11   2.03\n",
      "4     38.82    2.11   3.26   3.04\n",
      "...     ...     ...    ...    ...\n",
      "1371    NaN  612.56    NaN    NaN\n",
      "1372    NaN  612.65    NaN    NaN\n",
      "1373    NaN  613.18    NaN    NaN\n",
      "1374    NaN  613.79    NaN    NaN\n",
      "1375    NaN  614.24    NaN    NaN\n",
      "\n",
      "[1376 rows x 4 columns]\n"
     ]
    }
   ],
   "source": [
    "# Data needs to be cleaned up before analysis (can skip rows, columns, change index)\n",
    "data = pd.read_excel('Rat2_Exp1_4_days_USVs.xlsx', skiprows=1)\n",
    "# data = data.iloc[:,1:])\n",
    "# data = data.set_index(\"d1\")\n",
    "print(data)"
   ]
  },
  {
   "cell_type": "code",
   "execution_count": 29,
   "metadata": {},
   "outputs": [
    {
     "data": {
      "text/plain": [
       "[<matplotlib.lines.Line2D at 0x266e78c80b0>]"
      ]
     },
     "execution_count": 29,
     "metadata": {},
     "output_type": "execute_result"
    },
    {
     "data": {
      "image/png": "[encoded data removed]",
      "text/plain": [
       "<Figure size 640x480 with 1 Axes>"
      ]
     },
     "metadata": {},
     "output_type": "display_data"
    }
   ],
   "source": [
    "# simple graph\n",
    "data = pd.read_excel('Rat2_Exp1_4_days_USVs.xlsx')\n",
    "# plt.plot(data['d1'], data['d2']) # -OR-\n",
    "plt.plot(data.index, data['d1'])\n",
    "plt.show\n"
   ]
  },
  {
   "cell_type": "code",
   "execution_count": 31,
   "metadata": {},
   "outputs": [
    {
     "data": {
      "image/png": "[encoded data removed]",
      "text/plain": [
       "<Figure size 640x480 with 1 Axes>"
      ]
     },
     "metadata": {},
     "output_type": "display_data"
    }
   ],
   "source": [
    "plt.plot(data.index, data['d1'])\n",
    "plt.title('Rat2_Exp1_4_days_USVs')\n",
    "plt.xlabel('Time')\n",
    "plt.ylabel('Frequency')\n",
    "plt.show()\n"
   ]
  },
  {
   "cell_type": "code",
   "execution_count": 32,
   "metadata": {},
   "outputs": [
    {
     "name": "stdout",
     "output_type": "stream",
     "text": [
      "          d1        d2        d3        d4\n",
      "d1  1.000000  0.849168  0.973444  0.945527\n",
      "d2  0.849168  1.000000  0.989902  0.995561\n",
      "d3  0.973444  0.989902  1.000000  0.997810\n",
      "d4  0.945527  0.995561  0.997810  1.000000\n"
     ]
    }
   ],
   "source": [
    "#  a bit more complicated graph\n",
    "print(data.corr())"
   ]
  },
  {
   "cell_type": "code",
   "execution_count": 33,
   "metadata": {},
   "outputs": [
    {
     "data": {
      "text/plain": [
       "<Axes: >"
      ]
     },
     "execution_count": 33,
     "metadata": {},
     "output_type": "execute_result"
    },
    {
     "data": {
      "image/png": "[encoded data removed]",
      "text/plain": [
       "<Figure size 640x480 with 2 Axes>"
      ]
     },
     "metadata": {},
     "output_type": "display_data"
    }
   ],
   "source": [
    "# Graph it\n",
    "sns.heatmap(data.corr(), annot=True, cmap='coolwarm', linewidths=0.5)   # or cmap=\"YlGnBu\""
   ]
  },
  {
   "cell_type": "markdown",
   "metadata": {},
   "source": [
    "## Working with Excel data in Python\n",
    "\n",
    "#### https://www.youtube.com/watch?v=InPA2CGuCMk"
   ]
  },
  {
   "cell_type": "code",
   "execution_count": null,
   "metadata": {},
   "outputs": [],
   "source": [
    "# excel dummy file is Testing_Py.xlsx\n"
   ]
  }
 ],
 "metadata": {
  "kernelspec": {
   "display_name": "Python 3",
   "language": "python",
   "name": "python3"
  },
  "language_info": {
   "codemirror_mode": {
    "name": "ipython",
    "version": 3
   },
   "file_extension": ".py",
   "mimetype": "text/x-python",
   "name": "python",
   "nbconvert_exporter": "python",
   "pygments_lexer": "ipython3",
   "version": "3.12.4"
  }
 },
 "nbformat": 4,
 "nbformat_minor": 2
}
