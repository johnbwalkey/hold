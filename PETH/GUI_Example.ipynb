{
 "cells": [
  {
   "cell_type": "markdown",
   "metadata": {},
   "source": [
    "# how to create a gui in python\n",
    "## ChatGPT\n",
    "### Creating a GUI (Graphical User Interface) in Python can be done using various libraries, but one of the most popular and easy-to-use libraries is Tkinter. Here's a simple example to get you started with a basic GUI application using Tkinter:\n",
    "#### 1.\tInstall Tkinter: Tkinter comes pre-installed with Python, so you usually don't need to install it separately. However, if for some reason it's not installed, you can install it using the package manager for your operating system.\n",
    "#### 2.\tBasic Tkinter Example: The following code creates a simple window with a label and a button.\n"
   ]
  },
  {
   "cell_type": "code",
   "execution_count": 1,
   "metadata": {},
   "outputs": [],
   "source": [
    "import tkinter as tk\n",
    "\n",
    "# Create the main window\n",
    "root = tk.Tk()\n",
    "root.title(\"Simple GUI\")\n",
    "\n",
    "# Set the window size\n",
    "root.geometry(\"300x200\")\n",
    "\n",
    "# Create a label widget\n",
    "label = tk.Label(root, text=\"Hello, Tkinter!\")\n",
    "label.pack(pady=20)\n",
    "\n",
    "# Function to handle button click\n",
    "def on_button_click():\n",
    "    label.config(text=\"Button Clicked!\")\n",
    "\n",
    "# Create a button widget\n",
    "button = tk.Button(root, text=\"Click Me\", command=on_button_click)\n",
    "button.pack(pady=10)\n",
    "\n",
    "# Run the application\n",
    "root.mainloop()\n"
   ]
  },
  {
   "cell_type": "markdown",
   "metadata": {},
   "source": [
    "Explanation:\n",
    "1.\tImport Tkinter: import tkinter as tk imports the Tkinter module and renames it to tk for convenience.\n",
    "2.\tCreate the Main Window: root = tk.Tk() creates the main application window. root.title(\"Simple GUI\") sets the window title, and root.geometry(\"300x200\") sets the window size.\n",
    "3.\tCreate Widgets:\n",
    "o\tLabel: label = tk.Label(root, text=\"Hello, Tkinter!\") creates a label widget with the text \"Hello, Tkinter!\". label.pack(pady=20) adds the label to the window with some vertical padding.\n",
    "o\tButton: button = tk.Button(root, text=\"Click Me\", command=on_button_click) creates a button widget with the text \"Click Me\". The command parameter specifies the function to call when the button is clicked. button.pack(pady=10) adds the button to the window with some vertical padding.\n",
    "4.\tFunction for Button Click: def on_button_click(): defines a function that changes the label text when the button is clicked.\n",
    "5.\tRun the Application: root.mainloop() starts the Tkinter event loop, which waits for user interactions and updates the GUI accordingly.\n",
    "This example covers the basics of creating a simple GUI application with Tkinter. You can add more widgets like Entry (for text input), Checkbutton, Radiobutton, Listbox, and more to create more complex GUIs.\n",
    "If you need more advanced features or a different look and feel, you can also explore other libraries like PyQt, Kivy, or wxPython.\n"
   ]
  }
 ],
 "metadata": {
  "kernelspec": {
   "display_name": "Python 3",
   "language": "python",
   "name": "python3"
  },
  "language_info": {
   "codemirror_mode": {
    "name": "ipython",
    "version": 3
   },
   "file_extension": ".py",
   "mimetype": "text/x-python",
   "name": "python",
   "nbconvert_exporter": "python",
   "pygments_lexer": "ipython3",
   "version": "3.12.4"
  }
 },
 "nbformat": 4,
 "nbformat_minor": 2
}
