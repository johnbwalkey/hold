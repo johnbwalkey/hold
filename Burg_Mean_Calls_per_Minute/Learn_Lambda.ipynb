{
 "cells": [
  {
   "cell_type": "markdown",
   "metadata": {},
   "source": [
    "Learn about Lambda:\n",
    "https://www.youtube.com/watch?v=2qKQGqpRsks\n",
    "\n",
    "I got ChatGPT for help:\n",
    "In Python programming, lambda is used to create small, anonymous functions. The syntax for a lambda function is:"
   ]
  },
  {
   "cell_type": "code",
   "execution_count": 1,
   "metadata": {},
   "outputs": [
    {
     "data": {
      "text/plain": [
       "<function __main__.<lambda>(arguments)>"
      ]
     },
     "execution_count": 1,
     "metadata": {},
     "output_type": "execute_result"
    }
   ],
   "source": [
    "lambda arguments: expression\n",
    "\n",
    "# Here, lambda defines the function, arguments are the inputs, \n",
    "# and expression is the single output expression. \n",
    "# Lambda functions are often used for short-term operations, \n",
    "# such as in map(), filter(), and sorted(), where defining a full \n",
    "# function with def would be overkill."
   ]
  },
  {
   "cell_type": "markdown",
   "metadata": {},
   "source": [
    "### Examples:"
   ]
  },
  {
   "cell_type": "code",
   "execution_count": 2,
   "metadata": {},
   "outputs": [
    {
     "name": "stdout",
     "output_type": "stream",
     "text": [
      "5\n"
     ]
    }
   ],
   "source": [
    "# Basic Lambda Function:\n",
    "add = lambda x, y: x + y\n",
    "print(add(2, 3))  # Output: 5\n"
   ]
  },
  {
   "cell_type": "code",
   "execution_count": 3,
   "metadata": {},
   "outputs": [
    {
     "name": "stdout",
     "output_type": "stream",
     "text": [
      "[1, 4, 9, 16]\n"
     ]
    }
   ],
   "source": [
    "# Using Lambda with map():\n",
    "numbers = [1, 2, 3, 4]\n",
    "squared = map(lambda x: x ** 2, numbers)\n",
    "print(list(squared))  # Output: [1, 4, 9, 16]\n"
   ]
  },
  {
   "cell_type": "code",
   "execution_count": 4,
   "metadata": {},
   "outputs": [
    {
     "name": "stdout",
     "output_type": "stream",
     "text": [
      "[2, 4]\n"
     ]
    }
   ],
   "source": [
    "# Using Lambda with filter():\n",
    "numbers = [1, 2, 3, 4]\n",
    "even = filter(lambda x: x % 2 == 0, numbers)\n",
    "print(list(even))  # Output: [2, 4]\n"
   ]
  },
  {
   "cell_type": "code",
   "execution_count": 5,
   "metadata": {},
   "outputs": [
    {
     "name": "stdout",
     "output_type": "stream",
     "text": [
      "[(4, 1), (1, 2), (2, 2), (5, 3)]\n"
     ]
    }
   ],
   "source": [
    "# Using Lambda with sorted():\n",
    "points = [(1, 2), (4, 1), (5, 3), (2, 2)]\n",
    "sorted_points = sorted(points, key=lambda x: x[1])\n",
    "print(sorted_points)  # Output: [(4, 1), (1, 2), (2, 2), (5, 3)]\n"
   ]
  },
  {
   "cell_type": "markdown",
   "metadata": {},
   "source": [
    "When to Use Lambda Functions\n",
    "Short, simple operations: When you need a small function for a short period.\n",
    "Inline usage: When a function is used only once or a few times and defining it separately would clutter the code.\n",
    "Functional programming contexts: When working with functions like map(), filter(), and reduce() where concise syntax is beneficial.\n",
    "Lambda functions are powerful tools for writing clean and concise code in Python."
   ]
  }
 ],
 "metadata": {
  "kernelspec": {
   "display_name": "Python 3",
   "language": "python",
   "name": "python3"
  },
  "language_info": {
   "codemirror_mode": {
    "name": "ipython",
    "version": 3
   },
   "file_extension": ".py",
   "mimetype": "text/x-python",
   "name": "python",
   "nbconvert_exporter": "python",
   "pygments_lexer": "ipython3",
   "version": "3.12.4"
  }
 },
 "nbformat": 4,
 "nbformat_minor": 2
}
