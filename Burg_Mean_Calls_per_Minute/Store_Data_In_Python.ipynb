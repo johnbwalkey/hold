{
 "cells": [
  {
   "cell_type": "markdown",
   "metadata": {},
   "source": [
    "If you want to store data within variables in Python, you have several options depending on the type and structure of your data. Here are some common ways to store data as variables:\n",
    "\n",
    "Primitive Data Types\n",
    "\n",
    "Integers: Simple whole numbers.\n",
    "Floats: Numbers with decimals.\n",
    "Strings: Text data."
   ]
  },
  {
   "cell_type": "code",
   "execution_count": 1,
   "metadata": {},
   "outputs": [
    {
     "name": "stdout",
     "output_type": "stream",
     "text": [
      "30\n",
      "36.6\n",
      "Alice\n",
      "<class 'int'>\n",
      "<class 'float'>\n",
      "<class 'str'>\n",
      "Hello, Alice!\n",
      "Hello, Alice!\n",
      "Hello, Alice!\n",
      "Hello, Alice!\n",
      "Hello, Alice! You are 30 years old.\n",
      "Hello, Alice! You are 30 years old.\n"
     ]
    }
   ],
   "source": [
    "age = 30  # integer\n",
    "temperature = 36.6  # float\n",
    "name = \"Alice\"  # string\n",
    "print(age)\n",
    "print(temperature)\n",
    "print(name)\n",
    "print(type(age))\n",
    "print(type(temperature))\n",
    "print(type(name))\n",
    "print(\"Hello, \" + name + \"!\")\n",
    "print(\"Hello, %s!\" % name)\n",
    "print(\"Hello, {}!\".format(name))\n",
    "print(f\"Hello, {name}!\")\n",
    "print(\"Hello, %s! You are %d years old.\" % (name, age))\n",
    "print(\"Hello, {}! You are {} years old.\".format(name, age))\n"
   ]
  },
  {
   "cell_type": "markdown",
   "metadata": {},
   "source": [
    "Lists\n",
    "\n",
    "Advantages: Ordered, mutable.\n",
    "Use Cases: Collections of related items"
   ]
  },
  {
   "cell_type": "code",
   "execution_count": 2,
   "metadata": {},
   "outputs": [
    {
     "name": "stdout",
     "output_type": "stream",
     "text": [
      "25\n"
     ]
    }
   ],
   "source": [
    "ages = [25, 30, 35]  # list of integers\n",
    "names = [\"Alice\", \"Bob\", \"Charlie\"]  # list of strings\n",
    "print (ages[0])  # 25"
   ]
  },
  {
   "cell_type": "markdown",
   "metadata": {},
   "source": [
    "Tuples\n",
    "\n",
    "Advantages: Ordered, immutable.\n",
    "Use Cases: Fixed collections of related items"
   ]
  },
  {
   "cell_type": "code",
   "execution_count": 3,
   "metadata": {},
   "outputs": [
    {
     "name": "stdout",
     "output_type": "stream",
     "text": [
      "Alice\n"
     ]
    }
   ],
   "source": [
    "person = (\"Alice\", 30)  # tuple with a string and an integer\n",
    "print (person[0])"
   ]
  },
  {
   "cell_type": "markdown",
   "metadata": {},
   "source": [
    "Dictionaries\n",
    "\n",
    "Advantages: Key-value pairs, unordered, mutable.\n",
    "Use Cases: Associative arrays, mappings."
   ]
  },
  {
   "cell_type": "code",
   "execution_count": 4,
   "metadata": {},
   "outputs": [
    {
     "name": "stdout",
     "output_type": "stream",
     "text": [
      "Alice\n"
     ]
    }
   ],
   "source": [
    "person = {\"name\": \"Alice\", \"age\": 30}  # dictionary\n",
    "print (person[\"name\"])"
   ]
  },
  {
   "cell_type": "markdown",
   "metadata": {},
   "source": [
    "Sets\n",
    "\n",
    "Advantages: Unordered, unique items.\n",
    "Use Cases: Collections of unique items."
   ]
  },
  {
   "cell_type": "code",
   "execution_count": 12,
   "metadata": {},
   "outputs": [
    {
     "name": "stdout",
     "output_type": "stream",
     "text": [
      "{1, 2, 3}\n"
     ]
    }
   ],
   "source": [
    "unique_numbers = {1, 2, 3, 2}  # set\n",
    "print (unique_numbers)  # {1, 2, 3}"
   ]
  },
  {
   "cell_type": "markdown",
   "metadata": {},
   "source": [
    "Custom Classes\n",
    "\n",
    "Advantages: Encapsulate data and behavior.\n",
    "Use Cases: Complex data structures."
   ]
  },
  {
   "cell_type": "code",
   "execution_count": 6,
   "metadata": {},
   "outputs": [
    {
     "name": "stdout",
     "output_type": "stream",
     "text": [
      "Alice\n"
     ]
    }
   ],
   "source": [
    "class Person:\n",
    "    def __init__(self, name, age):\n",
    "        self.name = name\n",
    "        self.age = age\n",
    "\n",
    "alice = Person(\"Alice\", 30)  # instance of a custom class\n",
    "print (alice.name)"
   ]
  },
  {
   "cell_type": "markdown",
   "metadata": {},
   "source": [
    "Numpy Arrays\n",
    "\n",
    "Advantages: Efficient numerical operations, multi-dimensional arrays.\n",
    "Use Cases: Large numerical datasets, matrix operations."
   ]
  },
  {
   "cell_type": "code",
   "execution_count": 7,
   "metadata": {},
   "outputs": [
    {
     "name": "stdout",
     "output_type": "stream",
     "text": [
      "[[1 2]\n",
      " [3 4]]\n"
     ]
    }
   ],
   "source": [
    "import numpy as np\n",
    "\n",
    "numbers = np.array([1, 2, 3])  # 1D numpy array\n",
    "matrix = np.array([[1, 2], [3, 4]])  # 2D numpy array\n",
    "print (matrix)"
   ]
  },
  {
   "cell_type": "markdown",
   "metadata": {},
   "source": [
    "Pandas DataFrames\n",
    "\n",
    "Advantages: Powerful data manipulation, tabular data.\n",
    "Use Cases: Data analysis, data manipulation"
   ]
  },
  {
   "cell_type": "code",
   "execution_count": 8,
   "metadata": {},
   "outputs": [
    {
     "name": "stdout",
     "output_type": "stream",
     "text": [
      "    name  age\n",
      "0  Alice   30\n",
      "1    Bob   25\n"
     ]
    }
   ],
   "source": [
    "import pandas as pd\n",
    "\n",
    "data = {\n",
    "    \"name\": [\"Alice\", \"Bob\"],\n",
    "    \"age\": [30, 25]\n",
    "}\n",
    "df = pd.DataFrame(data)  # pandas DataFrame\n",
    "print(df)\n"
   ]
  },
  {
   "cell_type": "markdown",
   "metadata": {},
   "source": [
    "Examples of Using Variables to Store Data:\n",
    "Simple Data Storage:"
   ]
  },
  {
   "cell_type": "code",
   "execution_count": 9,
   "metadata": {},
   "outputs": [
    {
     "name": "stdout",
     "output_type": "stream",
     "text": [
      "Alice\n"
     ]
    }
   ],
   "source": [
    "# Primitive types\n",
    "name = \"Alice\"\n",
    "age = 30\n",
    "temperature = 36.6\n",
    "\n",
    "# Collection types\n",
    "names = [\"Alice\", \"Bob\", \"Charlie\"]\n",
    "person = (\"Alice\", 30)\n",
    "unique_ids = {101, 102, 103}\n",
    "\n",
    "# Dictionary\n",
    "person_info = {\"name\": \"Alice\", \"age\": 30}\n",
    "print (person_info[\"name\"])\n"
   ]
  },
  {
   "cell_type": "markdown",
   "metadata": {},
   "source": [
    "Using Custom Classes:"
   ]
  },
  {
   "cell_type": "code",
   "execution_count": 10,
   "metadata": {},
   "outputs": [
    {
     "name": "stdout",
     "output_type": "stream",
     "text": [
      "Hello, my name is Alice and I am 30 years old.\n"
     ]
    }
   ],
   "source": [
    "class Person:\n",
    "    def __init__(self, name, age):\n",
    "        self.name = name\n",
    "        self.age = age\n",
    "\n",
    "    def greet(self):\n",
    "        return f\"Hello, my name is {self.name} and I am {self.age} years old.\"\n",
    "\n",
    "alice = Person(\"Alice\", 30)\n",
    "print(alice.greet())\n"
   ]
  },
  {
   "cell_type": "markdown",
   "metadata": {},
   "source": [
    "Using Numpy Arrays and Pandas DataFrames:"
   ]
  },
  {
   "cell_type": "code",
   "execution_count": 11,
   "metadata": {},
   "outputs": [
    {
     "name": "stdout",
     "output_type": "stream",
     "text": [
      "[1 2 3]\n",
      "    Name  Age\n",
      "0  Alice   30\n",
      "1    Bob   25\n"
     ]
    }
   ],
   "source": [
    "import numpy as np\n",
    "import pandas as pd\n",
    "\n",
    "# Numpy array\n",
    "numbers = np.array([1, 2, 3])\n",
    "print(numbers)\n",
    "\n",
    "# Pandas DataFrame\n",
    "data = {\n",
    "    \"Name\": [\"Alice\", \"Bob\"],\n",
    "    \"Age\": [30, 25]\n",
    "}\n",
    "df = pd.DataFrame(data)\n",
    "print(df)\n"
   ]
  },
  {
   "cell_type": "markdown",
   "metadata": {},
   "source": [
    "These examples illustrate different ways to store and manage data within variables in Python, depending on the complexity and structure of your data."
   ]
  }
 ],
 "metadata": {
  "kernelspec": {
   "display_name": "Python 3",
   "language": "python",
   "name": "python3"
  },
  "language_info": {
   "codemirror_mode": {
    "name": "ipython",
    "version": 3
   },
   "file_extension": ".py",
   "mimetype": "text/x-python",
   "name": "python",
   "nbconvert_exporter": "python",
   "pygments_lexer": "ipython3",
   "version": "3.12.4"
  }
 },
 "nbformat": 4,
 "nbformat_minor": 2
}
