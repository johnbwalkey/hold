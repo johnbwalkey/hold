{
 "cells": [
  {
   "cell_type": "markdown",
   "metadata": {},
   "source": [
    "## python GUI code to have one button click chages color and click again changes color back\n",
    "\n",
    "### ChatGPT\n",
    "#### Here's a simple example using Tkinter, a standard GUI library in Python, to create a button that changes color when clicked and changes back when clicked again:\n",
    "\n",
    "##### This script does the following:\n",
    "\n",
    "Imports the tkinter library: This library is used to create the GUI.\n",
    "Defines a function change_color: This function changes the button's color based on its current background color.\n",
    "Creates the main application window: root is the main window.\n",
    "Creates a button: The button's initial background color is set to red. When the button is clicked, it calls the change_color function.\n",
    "Runs the application: root.mainloop() starts the Tkinter event loop, waiting for user interaction."
   ]
  },
  {
   "cell_type": "code",
   "execution_count": 1,
   "metadata": {
    "ExecuteTime": {
     "end_time": "2024-07-17T01:57:30.545Z",
     "start_time": "2024-07-17T01:57:26.445869Z"
    }
   },
   "outputs": [],
   "source": [
    "import tkinter as tk\n",
    "\n",
    "# Function to change the button color and count clicks\n",
    "def change_color():\n",
    "    global click_count\n",
    "    if click_count < 3:\n",
    "        current_color = button.cget(\"bg\")\n",
    "        new_color = \"blue\" if current_color == \"red\" else \"red\"\n",
    "        button.config(bg=new_color)\n",
    "        click_count += 1\n",
    "    if click_count == 3:\n",
    "        root.destroy()  # Close the GUI window\n",
    "\n",
    "# Create the main window\n",
    "root = tk.Tk()\n",
    "root.title(\"Color Toggle Button\")\n",
    "\n",
    "# Initialize click counter\n",
    "click_count = 0\n",
    "\n",
    "# Create a button\n",
    "button = tk.Button(root, text=\"Click Me\", bg=\"red\", command=change_color)\n",
    "button.pack(pady=20)\n",
    "\n",
    "# Run the application\n",
    "root.mainloop()\n",
    "\n",
    "\n"
   ]
  },
  {
   "cell_type": "markdown",
   "metadata": {},
   "source": [
    "## To make the button change color three times and then stop, you can add a counter to keep track of the number of clicks and disable the button after the third click. Here is the updated code:\n"
   ]
  },
  {
   "cell_type": "markdown",
   "metadata": {},
   "source": [
    "## \n",
    "To close the GUI after the third click, you can add a command to close the window using root.destroy(). Here is the updated code:"
   ]
  }
 ],
 "metadata": {
  "kernelspec": {
   "display_name": "Python 3",
   "language": "python",
   "name": "python3"
  },
  "language_info": {
   "codemirror_mode": {
    "name": "ipython",
    "version": 3
   },
   "file_extension": ".py",
   "mimetype": "text/x-python",
   "name": "python",
   "nbconvert_exporter": "python",
   "pygments_lexer": "ipython3",
   "version": "3.12.4"
  }
 },
 "nbformat": 4,
 "nbformat_minor": 2
}
