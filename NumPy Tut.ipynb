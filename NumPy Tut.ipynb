{
 "cells": [
  {
   "cell_type": "markdown",
   "metadata": {},
   "source": [
    "### NumPy Tutorial"
   ]
  },
  {
   "cell_type": "markdown",
   "metadata": {},
   "source": [
    "NumPy is an amazing scientific computing library that is used by numerous other Python Data Science libraries. It contains many mathematical, array and string functions that are extremely useful. Along with all the basic math functions you'll also find them for Linear Algebra, Statistics, Simulation, etc.\n",
    "\n",
    "I recommend that you use the Jupyter setup I use with Anaconda so that you'll have access to all of NumPys dependencies. \n",
    "\n",
    "NumPy utilizes vector (1D Arrays) and matrice arrays (2D Arrays). "
   ]
  },
  {
   "cell_type": "markdown",
   "metadata": {},
   "source": [
    "### NumPy Arrays : Creating Arrays"
   ]
  },
  {
   "cell_type": "code",
   "metadata": {
    "ExecuteTime": {
     "end_time": "2024-07-16T20:43:53.751147Z",
     "start_time": "2024-07-16T20:43:52.974475Z"
    }
   },
   "source": [
    "import numpy as np\n",
    "# Provides beautiful plots of numerous type that are either\n",
    "# static, animated and/or interactive\n",
    "import matplotlib.pylab as plt\n",
    "from numpy import random\n",
    "\n",
    "# A Python list\n",
    "list_1 = [1, 2, 3, 4, 5]\n",
    "\n",
    "# Create NumPy 1 dimensional (a axis) array list object of type byte (-128 to 127)\n",
    "# A N-dimensional array is a usyally fixed size multidimensional\n",
    "# array that contains items of the same type. \n",
    "np_arr_1 = np.array(list_1, dtype=np.int8)\n",
    "np_arr_1\n",
    "# Create multidimenional list\n",
    "m_list_1 = [[1, 2, 3], [4, 5, 6], [7, 8, 9]]\n",
    "\n",
    "# Create NumPy multidimensional (2 axis) array without defining type\n",
    "np_m_arr_1 = np.array(m_list_1)\n",
    "\n",
    "# You can also create arrays by defining the start value,\n",
    "# stop value (up to but not include stop) and step amount\n",
    "np.arange(1, 10)\n",
    "\n",
    "# With floats define start, end and number of values\n",
    "np.linspace(0, 5, 7)\n",
    "\n",
    "# You can create a 3 item array of zeroes\n",
    "np.zeros(4)\n",
    "\n",
    "# You can create multidimensional arrays of zeroes by passing\n",
    "# a tuple with the 1st value being rows and the 2nd columns\n",
    "np.zeros((2, 3))\n",
    "\n",
    "# Create array of 1s\n",
    "np.ones((2, 3))\n",
    "\n",
    "# Get number of items in the array\n",
    "np_m_arr_1.size\n",
    "\n",
    "# Create array with defined values\n",
    "np_arr_2 = np.array([1, 2, 3, 4, 5, 6])\n",
    "\n",
    "# Get type for array\n",
    "np_arr_2.dtype\n",
    "\n",
    "# Data Types\n",
    "# Boolean : np.bool_\n",
    "# Char : np.byte\n",
    "# Short : np.short\n",
    "# Integer : np.short\n",
    "# Long : np.int_\n",
    "# Float : np.single & np.float32\n",
    "# Double : np.double & np.float64\n",
    "# np.int8 : -128 to 127\n",
    "# np.int16 : -32768 to 32767\n",
    "# np.int32 : -2147483648 to 2147483647\n",
    "# np.int64 : -9223372036854775808 to 9223372036854775807\n",
    "\n",
    "# Create random 5 value 1D array from 10 to 50\n",
    "np.random.randint(10, 50, 5)\n",
    "# Create random matrix 2x3 with values between 10 and 50\n",
    "np.random.randint(10, 50, size=(2, 3))\n",
    "\n",
    "# Get help with a function\n",
    "np.random.randint?"
   ],
   "outputs": [],
   "execution_count": 1
  },
  {
   "cell_type": "markdown",
   "metadata": {},
   "source": [
    "### Slicing and Indexes"
   ]
  },
  {
   "cell_type": "code",
   "metadata": {
    "ExecuteTime": {
     "end_time": "2024-07-16T20:43:56.547023Z",
     "start_time": "2024-07-16T20:43:56.532906Z"
    }
   },
   "source": [
    "# Change value at index\n",
    "# np_m_arr_1[0,0] = 2\n",
    "# np_m_arr_1.itemset((0,1), 1)\n",
    "np_m_arr_1\n",
    "# Get size of array\n",
    "np_m_arr_1.shape\n",
    "# Get value by index\n",
    "np_m_arr_1[0,1]\n",
    "np_m_arr_1.item(0,1)\n",
    "\n",
    "# Get specific indices\n",
    "np.take(np_m_arr_1, [0, 3, 6])\n",
    "# Replace provided index values with new values\n",
    "np.put(np_m_arr_1, [0, 3, 6], [10, 10, 10])\n",
    "print(np_m_arr_1)\n",
    "\n",
    "# Start at 1st through 5th with 2 step\n",
    "np_arr_1[:5:2]\n",
    "# Get 2nd value from each row\n",
    "np_m_arr_1[:,1]\n",
    "# Flip Array\n",
    "np_arr_1[::-1]\n",
    "\n",
    "# Get evens\n",
    "evens = np_m_arr_1[np_m_arr_1%2==0]\n",
    "evens\n",
    "\n",
    "# Get values > 5\n",
    "np_m_arr_1[np_m_arr_1 > 5]\n",
    "# 5 < value < 9\n",
    "np_m_arr_1[(np_m_arr_1 > 5) & (np_m_arr_1 < 9)]\n",
    "# 5 < value or value = 10\n",
    "np_m_arr_1[(np_m_arr_1 > 5) | (np_m_arr_1 == 10)]\n",
    "\n",
    "# Find uniques\n",
    "np.unique(np_m_arr_1)\n"
   ],
   "outputs": [
    {
     "name": "stdout",
     "output_type": "stream",
     "text": [
      "[[10  2  3]\n",
      " [10  5  6]\n",
      " [10  8  9]]\n"
     ]
    },
    {
     "data": {
      "text/plain": [
       "array([ 2,  3,  5,  6,  8,  9, 10])"
      ]
     },
     "execution_count": 2,
     "metadata": {},
     "output_type": "execute_result"
    }
   ],
   "execution_count": 2
  },
  {
   "cell_type": "markdown",
   "metadata": {},
   "source": [
    "### Reshaping Arrays"
   ]
  },
  {
   "cell_type": "code",
   "metadata": {
    "ExecuteTime": {
     "end_time": "2024-07-16T20:44:00.405981Z",
     "start_time": "2024-07-16T20:44:00.396189Z"
    }
   },
   "source": [
    "# Reshape array to 1 by 9\n",
    "np_m_arr_1.reshape((1, 9))\n",
    "np_m_arr_1\n",
    "# Reshape array to 2 by 5 (Items are either lost or 0s added)\n",
    "np_m_arr_1.resize((2,5))\n",
    "np_m_arr_1\n",
    "# Transpose axes\n",
    "np_m_arr_1.transpose()\n",
    "# Swap axes \n",
    "np_m_arr_1.swapaxes(0,1)\n",
    "# Flatten in order\n",
    "np_m_arr_1.flatten()\n",
    "# Flatten in column order\n",
    "np_m_arr_1.flatten('F')\n",
    "# Sort rows\n",
    "np_m_arr_1.sort(axis=1)\n",
    "print(np_m_arr_1)\n",
    "# Sort columns\n",
    "np_m_arr_1.sort(axis=0)\n",
    "np_m_arr_1"
   ],
   "outputs": [
    {
     "name": "stdout",
     "output_type": "stream",
     "text": [
      "[[ 2  3  5 10 10]\n",
      " [ 0  6  8  9 10]]\n"
     ]
    },
    {
     "data": {
      "text/plain": [
       "array([[ 0,  3,  5,  9, 10],\n",
       "       [ 2,  6,  8, 10, 10]])"
      ]
     },
     "execution_count": 3,
     "metadata": {},
     "output_type": "execute_result"
    }
   ],
   "execution_count": 3
  },
  {
   "cell_type": "markdown",
   "metadata": {},
   "source": [
    "### Stacking & Splitting"
   ]
  },
  {
   "cell_type": "code",
   "metadata": {
    "ExecuteTime": {
     "end_time": "2024-07-16T20:44:04.626385Z",
     "start_time": "2024-07-16T20:44:04.616397Z"
    }
   },
   "source": [
    "# Generate random arrays\n",
    "ss_arr_1 = np.random.randint(10, size=(2, 2))\n",
    "print(\"ss_arr_1\\n\", ss_arr_1)\n",
    "ss_arr_2 = np.random.randint(10, size=(2, 2))\n",
    "print(\"ss_arr_2\\n\", ss_arr_2)\n",
    "\n",
    "# Stack arr_2 under arr_1\n",
    "np.vstack((ss_arr_1, ss_arr_2))\n",
    "# Stack horizontally\n",
    "np.hstack((ss_arr_1, ss_arr_2))\n",
    "\n",
    "# Delete 2nd row on each array\n",
    "ss_arr_3 = np.delete(ss_arr_1, 1, 0)\n",
    "ss_arr_4 = np.delete(ss_arr_2, 1, 0)\n",
    "print(\"ss_arr_3\\n\", ss_arr_3)\n",
    "print(\"ss_arr_4\\n\", ss_arr_4)\n",
    "# Combine arrays\n",
    "np.column_stack((ss_arr_3, ss_arr_4))\n",
    "# Stack in a 2D array\n",
    "np.row_stack((ss_arr_3, ss_arr_4))\n",
    "\n",
    "# Generate 2x10 array\n",
    "ss_arr_5 = np.random.randint(10, size=(2, 10))\n",
    "print(\"ss_arr_5\\n\", ss_arr_5)\n",
    "# Split into 5 arrays taking from both arrays in multidimensional array\n",
    "np.hsplit(ss_arr_5, 5)\n",
    "# Split after 2nd & 4th column\n",
    "np.hsplit(ss_arr_5, (2, 4))\n"
   ],
   "outputs": [
    {
     "name": "stdout",
     "output_type": "stream",
     "text": [
      "ss_arr_1\n",
      " [[0 5]\n",
      " [0 4]]\n",
      "ss_arr_2\n",
      " [[3 1]\n",
      " [7 0]]\n",
      "ss_arr_3\n",
      " [[0 5]]\n",
      "ss_arr_4\n",
      " [[3 1]]\n",
      "ss_arr_5\n",
      " [[7 7 9 5 0 9 6 7 6 1]\n",
      " [9 3 9 9 9 6 1 2 6 8]]\n"
     ]
    },
    {
     "name": "stderr",
     "output_type": "stream",
     "text": [
      "C:\\Users\\john\\AppData\\Local\\Temp\\ipykernel_7836\\3624319012.py:20: DeprecationWarning: `row_stack` alias is deprecated. Use `np.vstack` directly.\n",
      "  np.row_stack((ss_arr_3, ss_arr_4))\n"
     ]
    },
    {
     "data": {
      "text/plain": [
       "[array([[7, 7],\n",
       "        [9, 3]], dtype=int32),\n",
       " array([[9, 5],\n",
       "        [9, 9]], dtype=int32),\n",
       " array([[0, 9, 6, 7, 6, 1],\n",
       "        [9, 6, 1, 2, 6, 8]], dtype=int32)]"
      ]
     },
     "execution_count": 4,
     "metadata": {},
     "output_type": "execute_result"
    }
   ],
   "execution_count": 4
  },
  {
   "cell_type": "markdown",
   "metadata": {},
   "source": [
    "### Copying"
   ]
  },
  {
   "cell_type": "code",
   "metadata": {
    "ExecuteTime": {
     "end_time": "2024-07-16T20:44:07.932181Z",
     "start_time": "2024-07-16T20:44:07.923111Z"
    }
   },
   "source": [
    "cp_arr_1 = np.random.randint(10, size=(2, 2))\n",
    "# Both variables point at the same array\n",
    "cp_arr_2 = cp_arr_1\n",
    "# Change value\n",
    "cp_arr_1[0,0] = 2\n",
    "print(\"cp_arr_1\\n\", cp_arr_1)\n",
    "print(\"cp_arr_2\\n\", cp_arr_2)\n",
    "# Create a view of data where changes don't effect original\n",
    "cp_arr_3 = cp_arr_1.view()\n",
    "print(\"cp_arr_3\\n\", cp_arr_3)\n",
    "cp_arr_3 = cp_arr_3.flatten('F')\n",
    "print(\"cp_arr_3\\n\", cp_arr_3)\n",
    "print(\"cp_arr_1\\n\", cp_arr_1)\n",
    "# Copy and create new array\n",
    "cp_arr_4 = cp_arr_1.copy()"
   ],
   "outputs": [
    {
     "name": "stdout",
     "output_type": "stream",
     "text": [
      "cp_arr_1\n",
      " [[2 3]\n",
      " [4 5]]\n",
      "cp_arr_2\n",
      " [[2 3]\n",
      " [4 5]]\n",
      "cp_arr_3\n",
      " [[2 3]\n",
      " [4 5]]\n",
      "cp_arr_3\n",
      " [2 4 3 5]\n",
      "cp_arr_1\n",
      " [[2 3]\n",
      " [4 5]]\n"
     ]
    }
   ],
   "execution_count": 5
  },
  {
   "cell_type": "markdown",
   "metadata": {},
   "source": [
    "### Basic Math"
   ]
  },
  {
   "cell_type": "code",
   "metadata": {
    "ExecuteTime": {
     "end_time": "2024-07-16T20:44:10.499645Z",
     "start_time": "2024-07-16T20:44:10.484323Z"
    }
   },
   "source": [
    "arr_3 = np.array([1, 2, 3, 4])\n",
    "arr_4 = np.array([2, 4, 6, 8])\n",
    "# Add values\n",
    "arr_3 + arr_4\n",
    "# Subtract\n",
    "arr_3 - arr_4\n",
    "# Multiply\n",
    "arr_3 * arr_4\n",
    "# Divide\n",
    "arr_3 / arr_4\n",
    "# Random 4 digit 1D array between 0 to 100\n",
    "arr_5 = random.randint(100, size=(4))\n",
    "arr_5\n",
    "# Random 2 by 3 digit 2D array between 0 to 100\n",
    "arr_6 = random.randint(100, size=(2, 3))\n",
    "arr_6\n",
    "# 4 random floats\n",
    "random.rand(4)\n",
    "# Get random value from an array\n",
    "random.choice(arr_3)\n",
    "\n",
    "# Sum of values in array\n",
    "arr_3.sum()\n",
    "# Sum columns\n",
    "print(arr_6)\n",
    "arr_6.sum(axis=0)\n",
    "# Cumulative sum of rows\n",
    "arr_6.cumsum(axis=1)\n",
    "\n",
    "# Min of each row\n",
    "arr_6.min(axis=1)\n",
    "# Max of each column\n",
    "arr_6.max(axis=0)\n",
    "\n",
    "print(\"arr_3\", arr_3)\n",
    "print(\"arr_4\", arr_4)\n",
    "# Add individual numbers to array\n",
    "np.add(arr_3, 5)\n",
    "# Add arrays\n",
    "np.add(arr_3, arr_4)\n",
    "# Subtract\n",
    "np.subtract(arr_3, arr_4)\n",
    "# Multiply\n",
    "np.multiply(arr_3, arr_4)\n",
    "# Divide\n",
    "np.divide(arr_3, arr_4)\n",
    "\n",
    "arr_5 = np.array([[1, 2], [3, 4]])\n",
    "arr_6 = np.array([[2, 4], [6, 9]])\n",
    "print(\"arr_5\\n\", arr_5)\n",
    "print(\"arr_6\\n\", arr_6)\n",
    "# Divides elements in 1st array by 2nd array and returns remainder\n",
    "np.remainder(arr_6, arr_5)\n",
    "\n",
    "# Return values in 1st array to powers defined in 2nd array\n",
    "np.power(arr_6, arr_5)\n",
    "# Square root\n",
    "np.sqrt(arr_3)\n",
    "# Cube root\n",
    "np.cbrt(arr_3)\n",
    "# Absolute value of every element\n",
    "np.absolute([-1, -2])\n",
    "# Exponential of all elements in array\n",
    "np.exp(arr_3)\n",
    "# log functions\n",
    "np.log(arr_3)\n",
    "np.log2(arr_3)\n",
    "np.log10(arr_3)\n",
    "# Greatest common divisor\n",
    "np.gcd.reduce([9, 12, 15])\n",
    "# Lowest common multiple\n",
    "np.lcm.reduce([9, 12, 15])\n",
    "\n",
    "# Round down\n",
    "np.floor([1.2, 2.5])\n",
    "# Round up\n",
    "np.ceil([1.2, 2.5])\n",
    "\n",
    "# Can receive 6 values and square them\n",
    "sq_arr = np.arange(6)**2\n",
    "sq_arr[arr_3]\n",
    "\n",
    "arr_7 = random.randint(100, size=(5, 3))\n",
    "print(\"arr_7\\n\", arr_7)\n",
    "# Get index for max value per column\n",
    "mc_index = arr_7.argmax(axis=0)\n",
    "mc_index\n",
    "# Get numbers corresponding to indexes\n",
    "max_nums = arr_7[mc_index]\n",
    "arr_7[mc_index, range(arr_7.shape[1])]"
   ],
   "outputs": [
    {
     "name": "stdout",
     "output_type": "stream",
     "text": [
      "[[38 52 16]\n",
      " [72 21 30]]\n",
      "arr_3 [1 2 3 4]\n",
      "arr_4 [2 4 6 8]\n",
      "arr_5\n",
      " [[1 2]\n",
      " [3 4]]\n",
      "arr_6\n",
      " [[2 4]\n",
      " [6 9]]\n",
      "arr_7\n",
      " [[10 88 28]\n",
      " [ 3 48 78]\n",
      " [58 65 42]\n",
      " [85 38  3]\n",
      " [65 85 17]]\n"
     ]
    },
    {
     "data": {
      "text/plain": [
       "array([85, 88, 78], dtype=int32)"
      ]
     },
     "execution_count": 6,
     "metadata": {},
     "output_type": "execute_result"
    }
   ],
   "execution_count": 6
  },
  {
   "cell_type": "markdown",
   "metadata": {},
   "source": [
    "### Reading from Files"
   ]
  },
  {
   "cell_type": "code",
   "metadata": {
    "ExecuteTime": {
     "end_time": "2024-07-16T20:44:14.028041Z",
     "start_time": "2024-07-16T20:44:12.788308Z"
    }
   },
   "source": [
    "# Pandas is used to manipulate tabular data and more\n",
    "import pandas as pd\n",
    "# Import using NumPy\n",
    "from numpy import genfromtxt\n",
    "\n",
    "# Read table of data from CSV file and convert to Numpy array\n",
    "ic_sales = pd.read_csv('icecreamsales.csv').to_numpy()\n",
    "ic_sales\n",
    "\n",
    "# Read data using NumPy\n",
    "ic_sales_2 = genfromtxt('icecreamsales.csv', delimiter=',')\n",
    "# Remove NANs\n",
    "ic_sales_2 = [row[~np.isnan(row)] for row in ic_sales_2]\n",
    "ic_sales_2"
   ],
   "outputs": [
    {
     "ename": "FileNotFoundError",
     "evalue": "[Errno 2] No such file or directory: 'icecreamsales.csv'",
     "output_type": "error",
     "traceback": [
      "\u001B[1;31m---------------------------------------------------------------------------\u001B[0m",
      "\u001B[1;31mFileNotFoundError\u001B[0m                         Traceback (most recent call last)",
      "Cell \u001B[1;32mIn[7], line 7\u001B[0m\n\u001B[0;32m      4\u001B[0m \u001B[38;5;28;01mfrom\u001B[39;00m \u001B[38;5;21;01mnumpy\u001B[39;00m \u001B[38;5;28;01mimport\u001B[39;00m genfromtxt\n\u001B[0;32m      6\u001B[0m \u001B[38;5;66;03m# Read table of data from CSV file and convert to Numpy array\u001B[39;00m\n\u001B[1;32m----> 7\u001B[0m ic_sales \u001B[38;5;241m=\u001B[39m \u001B[43mpd\u001B[49m\u001B[38;5;241;43m.\u001B[39;49m\u001B[43mread_csv\u001B[49m\u001B[43m(\u001B[49m\u001B[38;5;124;43m'\u001B[39;49m\u001B[38;5;124;43micecreamsales.csv\u001B[39;49m\u001B[38;5;124;43m'\u001B[39;49m\u001B[43m)\u001B[49m\u001B[38;5;241m.\u001B[39mto_numpy()\n\u001B[0;32m      8\u001B[0m ic_sales\n\u001B[0;32m     10\u001B[0m \u001B[38;5;66;03m# Read data using NumPy\u001B[39;00m\n",
      "File \u001B[1;32m~\\AppData\\Local\\JetBrains\\PyCharm2024.1\\demo\\PyCharmLearningProject\\venv\\Lib\\site-packages\\pandas\\io\\parsers\\readers.py:1026\u001B[0m, in \u001B[0;36mread_csv\u001B[1;34m(filepath_or_buffer, sep, delimiter, header, names, index_col, usecols, dtype, engine, converters, true_values, false_values, skipinitialspace, skiprows, skipfooter, nrows, na_values, keep_default_na, na_filter, verbose, skip_blank_lines, parse_dates, infer_datetime_format, keep_date_col, date_parser, date_format, dayfirst, cache_dates, iterator, chunksize, compression, thousands, decimal, lineterminator, quotechar, quoting, doublequote, escapechar, comment, encoding, encoding_errors, dialect, on_bad_lines, delim_whitespace, low_memory, memory_map, float_precision, storage_options, dtype_backend)\u001B[0m\n\u001B[0;32m   1013\u001B[0m kwds_defaults \u001B[38;5;241m=\u001B[39m _refine_defaults_read(\n\u001B[0;32m   1014\u001B[0m     dialect,\n\u001B[0;32m   1015\u001B[0m     delimiter,\n\u001B[1;32m   (...)\u001B[0m\n\u001B[0;32m   1022\u001B[0m     dtype_backend\u001B[38;5;241m=\u001B[39mdtype_backend,\n\u001B[0;32m   1023\u001B[0m )\n\u001B[0;32m   1024\u001B[0m kwds\u001B[38;5;241m.\u001B[39mupdate(kwds_defaults)\n\u001B[1;32m-> 1026\u001B[0m \u001B[38;5;28;01mreturn\u001B[39;00m \u001B[43m_read\u001B[49m\u001B[43m(\u001B[49m\u001B[43mfilepath_or_buffer\u001B[49m\u001B[43m,\u001B[49m\u001B[43m \u001B[49m\u001B[43mkwds\u001B[49m\u001B[43m)\u001B[49m\n",
      "File \u001B[1;32m~\\AppData\\Local\\JetBrains\\PyCharm2024.1\\demo\\PyCharmLearningProject\\venv\\Lib\\site-packages\\pandas\\io\\parsers\\readers.py:620\u001B[0m, in \u001B[0;36m_read\u001B[1;34m(filepath_or_buffer, kwds)\u001B[0m\n\u001B[0;32m    617\u001B[0m _validate_names(kwds\u001B[38;5;241m.\u001B[39mget(\u001B[38;5;124m\"\u001B[39m\u001B[38;5;124mnames\u001B[39m\u001B[38;5;124m\"\u001B[39m, \u001B[38;5;28;01mNone\u001B[39;00m))\n\u001B[0;32m    619\u001B[0m \u001B[38;5;66;03m# Create the parser.\u001B[39;00m\n\u001B[1;32m--> 620\u001B[0m parser \u001B[38;5;241m=\u001B[39m \u001B[43mTextFileReader\u001B[49m\u001B[43m(\u001B[49m\u001B[43mfilepath_or_buffer\u001B[49m\u001B[43m,\u001B[49m\u001B[43m \u001B[49m\u001B[38;5;241;43m*\u001B[39;49m\u001B[38;5;241;43m*\u001B[39;49m\u001B[43mkwds\u001B[49m\u001B[43m)\u001B[49m\n\u001B[0;32m    622\u001B[0m \u001B[38;5;28;01mif\u001B[39;00m chunksize \u001B[38;5;129;01mor\u001B[39;00m iterator:\n\u001B[0;32m    623\u001B[0m     \u001B[38;5;28;01mreturn\u001B[39;00m parser\n",
      "File \u001B[1;32m~\\AppData\\Local\\JetBrains\\PyCharm2024.1\\demo\\PyCharmLearningProject\\venv\\Lib\\site-packages\\pandas\\io\\parsers\\readers.py:1620\u001B[0m, in \u001B[0;36mTextFileReader.__init__\u001B[1;34m(self, f, engine, **kwds)\u001B[0m\n\u001B[0;32m   1617\u001B[0m     \u001B[38;5;28mself\u001B[39m\u001B[38;5;241m.\u001B[39moptions[\u001B[38;5;124m\"\u001B[39m\u001B[38;5;124mhas_index_names\u001B[39m\u001B[38;5;124m\"\u001B[39m] \u001B[38;5;241m=\u001B[39m kwds[\u001B[38;5;124m\"\u001B[39m\u001B[38;5;124mhas_index_names\u001B[39m\u001B[38;5;124m\"\u001B[39m]\n\u001B[0;32m   1619\u001B[0m \u001B[38;5;28mself\u001B[39m\u001B[38;5;241m.\u001B[39mhandles: IOHandles \u001B[38;5;241m|\u001B[39m \u001B[38;5;28;01mNone\u001B[39;00m \u001B[38;5;241m=\u001B[39m \u001B[38;5;28;01mNone\u001B[39;00m\n\u001B[1;32m-> 1620\u001B[0m \u001B[38;5;28mself\u001B[39m\u001B[38;5;241m.\u001B[39m_engine \u001B[38;5;241m=\u001B[39m \u001B[38;5;28;43mself\u001B[39;49m\u001B[38;5;241;43m.\u001B[39;49m\u001B[43m_make_engine\u001B[49m\u001B[43m(\u001B[49m\u001B[43mf\u001B[49m\u001B[43m,\u001B[49m\u001B[43m \u001B[49m\u001B[38;5;28;43mself\u001B[39;49m\u001B[38;5;241;43m.\u001B[39;49m\u001B[43mengine\u001B[49m\u001B[43m)\u001B[49m\n",
      "File \u001B[1;32m~\\AppData\\Local\\JetBrains\\PyCharm2024.1\\demo\\PyCharmLearningProject\\venv\\Lib\\site-packages\\pandas\\io\\parsers\\readers.py:1880\u001B[0m, in \u001B[0;36mTextFileReader._make_engine\u001B[1;34m(self, f, engine)\u001B[0m\n\u001B[0;32m   1878\u001B[0m     \u001B[38;5;28;01mif\u001B[39;00m \u001B[38;5;124m\"\u001B[39m\u001B[38;5;124mb\u001B[39m\u001B[38;5;124m\"\u001B[39m \u001B[38;5;129;01mnot\u001B[39;00m \u001B[38;5;129;01min\u001B[39;00m mode:\n\u001B[0;32m   1879\u001B[0m         mode \u001B[38;5;241m+\u001B[39m\u001B[38;5;241m=\u001B[39m \u001B[38;5;124m\"\u001B[39m\u001B[38;5;124mb\u001B[39m\u001B[38;5;124m\"\u001B[39m\n\u001B[1;32m-> 1880\u001B[0m \u001B[38;5;28mself\u001B[39m\u001B[38;5;241m.\u001B[39mhandles \u001B[38;5;241m=\u001B[39m \u001B[43mget_handle\u001B[49m\u001B[43m(\u001B[49m\n\u001B[0;32m   1881\u001B[0m \u001B[43m    \u001B[49m\u001B[43mf\u001B[49m\u001B[43m,\u001B[49m\n\u001B[0;32m   1882\u001B[0m \u001B[43m    \u001B[49m\u001B[43mmode\u001B[49m\u001B[43m,\u001B[49m\n\u001B[0;32m   1883\u001B[0m \u001B[43m    \u001B[49m\u001B[43mencoding\u001B[49m\u001B[38;5;241;43m=\u001B[39;49m\u001B[38;5;28;43mself\u001B[39;49m\u001B[38;5;241;43m.\u001B[39;49m\u001B[43moptions\u001B[49m\u001B[38;5;241;43m.\u001B[39;49m\u001B[43mget\u001B[49m\u001B[43m(\u001B[49m\u001B[38;5;124;43m\"\u001B[39;49m\u001B[38;5;124;43mencoding\u001B[39;49m\u001B[38;5;124;43m\"\u001B[39;49m\u001B[43m,\u001B[49m\u001B[43m \u001B[49m\u001B[38;5;28;43;01mNone\u001B[39;49;00m\u001B[43m)\u001B[49m\u001B[43m,\u001B[49m\n\u001B[0;32m   1884\u001B[0m \u001B[43m    \u001B[49m\u001B[43mcompression\u001B[49m\u001B[38;5;241;43m=\u001B[39;49m\u001B[38;5;28;43mself\u001B[39;49m\u001B[38;5;241;43m.\u001B[39;49m\u001B[43moptions\u001B[49m\u001B[38;5;241;43m.\u001B[39;49m\u001B[43mget\u001B[49m\u001B[43m(\u001B[49m\u001B[38;5;124;43m\"\u001B[39;49m\u001B[38;5;124;43mcompression\u001B[39;49m\u001B[38;5;124;43m\"\u001B[39;49m\u001B[43m,\u001B[49m\u001B[43m \u001B[49m\u001B[38;5;28;43;01mNone\u001B[39;49;00m\u001B[43m)\u001B[49m\u001B[43m,\u001B[49m\n\u001B[0;32m   1885\u001B[0m \u001B[43m    \u001B[49m\u001B[43mmemory_map\u001B[49m\u001B[38;5;241;43m=\u001B[39;49m\u001B[38;5;28;43mself\u001B[39;49m\u001B[38;5;241;43m.\u001B[39;49m\u001B[43moptions\u001B[49m\u001B[38;5;241;43m.\u001B[39;49m\u001B[43mget\u001B[49m\u001B[43m(\u001B[49m\u001B[38;5;124;43m\"\u001B[39;49m\u001B[38;5;124;43mmemory_map\u001B[39;49m\u001B[38;5;124;43m\"\u001B[39;49m\u001B[43m,\u001B[49m\u001B[43m \u001B[49m\u001B[38;5;28;43;01mFalse\u001B[39;49;00m\u001B[43m)\u001B[49m\u001B[43m,\u001B[49m\n\u001B[0;32m   1886\u001B[0m \u001B[43m    \u001B[49m\u001B[43mis_text\u001B[49m\u001B[38;5;241;43m=\u001B[39;49m\u001B[43mis_text\u001B[49m\u001B[43m,\u001B[49m\n\u001B[0;32m   1887\u001B[0m \u001B[43m    \u001B[49m\u001B[43merrors\u001B[49m\u001B[38;5;241;43m=\u001B[39;49m\u001B[38;5;28;43mself\u001B[39;49m\u001B[38;5;241;43m.\u001B[39;49m\u001B[43moptions\u001B[49m\u001B[38;5;241;43m.\u001B[39;49m\u001B[43mget\u001B[49m\u001B[43m(\u001B[49m\u001B[38;5;124;43m\"\u001B[39;49m\u001B[38;5;124;43mencoding_errors\u001B[39;49m\u001B[38;5;124;43m\"\u001B[39;49m\u001B[43m,\u001B[49m\u001B[43m \u001B[49m\u001B[38;5;124;43m\"\u001B[39;49m\u001B[38;5;124;43mstrict\u001B[39;49m\u001B[38;5;124;43m\"\u001B[39;49m\u001B[43m)\u001B[49m\u001B[43m,\u001B[49m\n\u001B[0;32m   1888\u001B[0m \u001B[43m    \u001B[49m\u001B[43mstorage_options\u001B[49m\u001B[38;5;241;43m=\u001B[39;49m\u001B[38;5;28;43mself\u001B[39;49m\u001B[38;5;241;43m.\u001B[39;49m\u001B[43moptions\u001B[49m\u001B[38;5;241;43m.\u001B[39;49m\u001B[43mget\u001B[49m\u001B[43m(\u001B[49m\u001B[38;5;124;43m\"\u001B[39;49m\u001B[38;5;124;43mstorage_options\u001B[39;49m\u001B[38;5;124;43m\"\u001B[39;49m\u001B[43m,\u001B[49m\u001B[43m \u001B[49m\u001B[38;5;28;43;01mNone\u001B[39;49;00m\u001B[43m)\u001B[49m\u001B[43m,\u001B[49m\n\u001B[0;32m   1889\u001B[0m \u001B[43m\u001B[49m\u001B[43m)\u001B[49m\n\u001B[0;32m   1890\u001B[0m \u001B[38;5;28;01massert\u001B[39;00m \u001B[38;5;28mself\u001B[39m\u001B[38;5;241m.\u001B[39mhandles \u001B[38;5;129;01mis\u001B[39;00m \u001B[38;5;129;01mnot\u001B[39;00m \u001B[38;5;28;01mNone\u001B[39;00m\n\u001B[0;32m   1891\u001B[0m f \u001B[38;5;241m=\u001B[39m \u001B[38;5;28mself\u001B[39m\u001B[38;5;241m.\u001B[39mhandles\u001B[38;5;241m.\u001B[39mhandle\n",
      "File \u001B[1;32m~\\AppData\\Local\\JetBrains\\PyCharm2024.1\\demo\\PyCharmLearningProject\\venv\\Lib\\site-packages\\pandas\\io\\common.py:873\u001B[0m, in \u001B[0;36mget_handle\u001B[1;34m(path_or_buf, mode, encoding, compression, memory_map, is_text, errors, storage_options)\u001B[0m\n\u001B[0;32m    868\u001B[0m \u001B[38;5;28;01melif\u001B[39;00m \u001B[38;5;28misinstance\u001B[39m(handle, \u001B[38;5;28mstr\u001B[39m):\n\u001B[0;32m    869\u001B[0m     \u001B[38;5;66;03m# Check whether the filename is to be opened in binary mode.\u001B[39;00m\n\u001B[0;32m    870\u001B[0m     \u001B[38;5;66;03m# Binary mode does not support 'encoding' and 'newline'.\u001B[39;00m\n\u001B[0;32m    871\u001B[0m     \u001B[38;5;28;01mif\u001B[39;00m ioargs\u001B[38;5;241m.\u001B[39mencoding \u001B[38;5;129;01mand\u001B[39;00m \u001B[38;5;124m\"\u001B[39m\u001B[38;5;124mb\u001B[39m\u001B[38;5;124m\"\u001B[39m \u001B[38;5;129;01mnot\u001B[39;00m \u001B[38;5;129;01min\u001B[39;00m ioargs\u001B[38;5;241m.\u001B[39mmode:\n\u001B[0;32m    872\u001B[0m         \u001B[38;5;66;03m# Encoding\u001B[39;00m\n\u001B[1;32m--> 873\u001B[0m         handle \u001B[38;5;241m=\u001B[39m \u001B[38;5;28;43mopen\u001B[39;49m\u001B[43m(\u001B[49m\n\u001B[0;32m    874\u001B[0m \u001B[43m            \u001B[49m\u001B[43mhandle\u001B[49m\u001B[43m,\u001B[49m\n\u001B[0;32m    875\u001B[0m \u001B[43m            \u001B[49m\u001B[43mioargs\u001B[49m\u001B[38;5;241;43m.\u001B[39;49m\u001B[43mmode\u001B[49m\u001B[43m,\u001B[49m\n\u001B[0;32m    876\u001B[0m \u001B[43m            \u001B[49m\u001B[43mencoding\u001B[49m\u001B[38;5;241;43m=\u001B[39;49m\u001B[43mioargs\u001B[49m\u001B[38;5;241;43m.\u001B[39;49m\u001B[43mencoding\u001B[49m\u001B[43m,\u001B[49m\n\u001B[0;32m    877\u001B[0m \u001B[43m            \u001B[49m\u001B[43merrors\u001B[49m\u001B[38;5;241;43m=\u001B[39;49m\u001B[43merrors\u001B[49m\u001B[43m,\u001B[49m\n\u001B[0;32m    878\u001B[0m \u001B[43m            \u001B[49m\u001B[43mnewline\u001B[49m\u001B[38;5;241;43m=\u001B[39;49m\u001B[38;5;124;43m\"\u001B[39;49m\u001B[38;5;124;43m\"\u001B[39;49m\u001B[43m,\u001B[49m\n\u001B[0;32m    879\u001B[0m \u001B[43m        \u001B[49m\u001B[43m)\u001B[49m\n\u001B[0;32m    880\u001B[0m     \u001B[38;5;28;01melse\u001B[39;00m:\n\u001B[0;32m    881\u001B[0m         \u001B[38;5;66;03m# Binary mode\u001B[39;00m\n\u001B[0;32m    882\u001B[0m         handle \u001B[38;5;241m=\u001B[39m \u001B[38;5;28mopen\u001B[39m(handle, ioargs\u001B[38;5;241m.\u001B[39mmode)\n",
      "\u001B[1;31mFileNotFoundError\u001B[0m: [Errno 2] No such file or directory: 'icecreamsales.csv'"
     ]
    }
   ],
   "execution_count": 7
  },
  {
   "cell_type": "markdown",
   "metadata": {},
   "source": [
    "### Statistics Functions"
   ]
  },
  {
   "cell_type": "code",
   "metadata": {
    "ExecuteTime": {
     "end_time": "2024-07-16T20:44:15.065319Z",
     "start_time": "2024-07-16T20:44:15.032094Z"
    }
   },
   "source": [
    "# Array 1 - 5\n",
    "sarr_1 = np.arange(1, 6)\n",
    "np.mean(sarr_1)\n",
    "np.median(sarr_1)\n",
    "np.average(sarr_1)\n",
    "np.std([4, 6, 3, 5, 2]) # Standard Deviation\n",
    "np.var([4, 6, 3, 5, 2]) # Variance\n",
    "# Also nanmedian, nanmean, nanstd, nanvar\n",
    "\n",
    "print(\"ic_sales\\n\", ic_sales)\n",
    "# Get the 50th percentile of the data\n",
    "np.percentile(ic_sales, 50, axis=0)\n",
    "# Get 1st column\n",
    "ic_sales[:,0]\n",
    "\n",
    "# Correlation coefficient : Measure of correlation between data\n",
    "# Closer to 1 the more the data is correlated\n",
    "np.corrcoef(ic_sales[:,0], ic_sales[:,1])\n",
    "\n",
    "# Calculating Regression line\n",
    "# Σ(x-x̅)*(y-ȳ) / Σ(x-x̅)2\n",
    "temp_mean = np.mean(ic_sales[:,0])\n",
    "sales_mean = np.mean(ic_sales[:,1])\n",
    "numerator = np.sum(((ic_sales[:,0] - temp_mean)*(ic_sales[:,1] - sales_mean)))\n",
    "denominator = np.sum(np.square(ic_sales[:,0] - temp_mean))\n",
    "slope = numerator/denominator\n",
    "# Calculate y intercept\n",
    "y_i = sales_mean - slope * temp_mean\n",
    "y_i\n",
    "reg_arr = ic_sales[:,0] * slope + y_i\n",
    "reg_arr"
   ],
   "outputs": [
    {
     "ename": "NameError",
     "evalue": "name 'ic_sales' is not defined",
     "output_type": "error",
     "traceback": [
      "\u001B[1;31m---------------------------------------------------------------------------\u001B[0m",
      "\u001B[1;31mNameError\u001B[0m                                 Traceback (most recent call last)",
      "Cell \u001B[1;32mIn[8], line 10\u001B[0m\n\u001B[0;32m      7\u001B[0m np\u001B[38;5;241m.\u001B[39mvar([\u001B[38;5;241m4\u001B[39m, \u001B[38;5;241m6\u001B[39m, \u001B[38;5;241m3\u001B[39m, \u001B[38;5;241m5\u001B[39m, \u001B[38;5;241m2\u001B[39m]) \u001B[38;5;66;03m# Variance\u001B[39;00m\n\u001B[0;32m      8\u001B[0m \u001B[38;5;66;03m# Also nanmedian, nanmean, nanstd, nanvar\u001B[39;00m\n\u001B[1;32m---> 10\u001B[0m \u001B[38;5;28mprint\u001B[39m(\u001B[38;5;124m\"\u001B[39m\u001B[38;5;124mic_sales\u001B[39m\u001B[38;5;130;01m\\n\u001B[39;00m\u001B[38;5;124m\"\u001B[39m, \u001B[43mic_sales\u001B[49m)\n\u001B[0;32m     11\u001B[0m \u001B[38;5;66;03m# Get the 50th percentile of the data\u001B[39;00m\n\u001B[0;32m     12\u001B[0m np\u001B[38;5;241m.\u001B[39mpercentile(ic_sales, \u001B[38;5;241m50\u001B[39m, axis\u001B[38;5;241m=\u001B[39m\u001B[38;5;241m0\u001B[39m)\n",
      "\u001B[1;31mNameError\u001B[0m: name 'ic_sales' is not defined"
     ]
    }
   ],
   "execution_count": 8
  },
  {
   "cell_type": "markdown",
   "metadata": {},
   "source": [
    "### Trig Functions"
   ]
  },
  {
   "cell_type": "code",
   "metadata": {
    "ExecuteTime": {
     "end_time": "2024-07-16T20:44:16.800054Z",
     "start_time": "2024-07-16T20:44:16.791074Z"
    }
   },
   "source": [
    "# Generate array of 200 values between -pi & pi\n",
    "t_arr = np.linspace(-np.pi, np.pi, 200)\n",
    "\n",
    "# Plot with x axis & y axis data \n",
    "# plt.plot(t_arr, np.sin(t_arr)) # SIN\n",
    "# plt.plot(t_arr, np.cos(t_arr)) # COS\n",
    "# plt.plot(t_arr, np.tan(t_arr)) # TAN\n",
    "# Display plot\n",
    "# plt.show()\n",
    "\n",
    "# Provides inverse of If y = cos(x), x = arccos(y)\n",
    "np.arcsin(1)\n",
    "np.arccos(1)\n",
    "np.arctan(0)\n",
    "\n",
    "# Also arctan2, sinh, cosh, tanh, arcsinh, arccosh, arctanh\n",
    "\n",
    "# Radians to degrees\n",
    "np.rad2deg(np.pi)\n",
    "# Degrees to radians\n",
    "np.deg2rad(180)\n",
    "\n",
    "# Hypotenuse c = √w² + h²\n",
    "np.hypot(10,10)"
   ],
   "outputs": [
    {
     "data": {
      "text/plain": [
       "np.float64(14.142135623730951)"
      ]
     },
     "execution_count": 9,
     "metadata": {},
     "output_type": "execute_result"
    }
   ],
   "execution_count": 9
  },
  {
   "cell_type": "markdown",
   "metadata": {},
   "source": [
    "### Matrix Functions"
   ]
  },
  {
   "cell_type": "code",
   "metadata": {
    "ExecuteTime": {
     "end_time": "2024-07-16T20:44:18.529670Z",
     "start_time": "2024-07-16T20:44:18.510759Z"
    }
   },
   "source": [
    "from numpy import linalg as LA\n",
    "\n",
    "print(\"arr_5\\n\", arr_5)\n",
    "print(\"arr_6\\n\", arr_6)\n",
    "arr_8 = np.array([[5, 6], [7, 8]])\n",
    "\n",
    "# Matrix multiplication with Dot Product\n",
    "# (1 * 2) + (2 * 6) = 14 [0,0]\n",
    "# (1 * 4) + (2 * 9) = 22 [0,1]\n",
    "# (3 * 2) + (4 * 6) = 30 [1,0]\n",
    "# (3 * 4) + (4 * 9) = 12 + 36 = 48 [1,1]\n",
    "np.dot(arr_5, arr_6)\n",
    "# Compute dot product of 2 or more arrays\n",
    "LA.multi_dot([arr_5, arr_6, arr_8])\n",
    "\n",
    "# Inner product \n",
    "# (1 * 2) + (2 * 4) = 10 [0,0]\n",
    "# (1 * 6) + (2 * 9) = 24 [0,1]\n",
    "# (3 * 2) + (4 * 4) = 22 [1,0]\n",
    "# (3 * 6) + (4 * 9) = 54 [1,1]\n",
    "np.inner(arr_5, arr_6)\n",
    "np.dot(arr_5, arr_6)\n",
    "\n",
    "# Tensor Dot Product\n",
    "# (1 * 1) + (2 * 2) + (3 * 3) + (4 * 4) = 30\n",
    "# (5 * 1) + (6 * 2) + (7 * 3) + (8 * 4) = \n",
    "arr_9 = np.array([[[1, 2],\n",
    "        [3, 4]],\n",
    "       [[5, 6],\n",
    "        [7, 8]]])\n",
    "arr_10 = np.array([[1, 2],\n",
    "       [3, 4]], dtype=object)\n",
    "np.tensordot(arr_9, arr_10)\n",
    "\n",
    "# Einstein Summation : Provides many ways to perform\n",
    "# operations on multiple arrays\n",
    "arr_11 = np.array([0, 1])\n",
    "arr_12 = np.array([[0, 1, 2, 3], [4, 5, 6, 7]])\n",
    "# Left Side of -> : 1 axis for arr_11 and 2 axis for arr_12\n",
    "# Right of -> : Array we want (1D Array)\n",
    "# ij : Means multiply arr_11 single item by each column of arr_12 and sum\n",
    "# [0, 4 + 5 + 6 + 7]\n",
    "np.einsum('i,ij->i', arr_11, arr_12)\n",
    "# Sum values in arr_11\n",
    "np.einsum('i->', arr_11)\n",
    "# Dot Product\n",
    "print(\"arr_3\\n\", arr_3)\n",
    "print(\"arr_4\\n\", arr_4)\n",
    "np.einsum('i,i->', arr_3, arr_4)\n",
    "# Matrix multiplication\n",
    "np.einsum('ij,jk', arr_5, arr_6)\n",
    "# Get diagonal\n",
    "np.einsum('ii', arr_5)\n",
    "# Transpose\n",
    "np.einsum('ji', arr_5)\n",
    "\n",
    "# Raise matrix to the power of n\n",
    "# Given [[a, b], [c, d]]\n",
    "# [[a² + bc, ab +db], [ac + dc, d² + bc]\n",
    "LA.matrix_power(arr_5, 2)\n",
    "\n",
    "# Kronecker product of 2 arrays\n",
    "# Given [[a, b], [c, d]], [[e, f], [g, h]]\n",
    "# [[a*e, a*f, b*e, b*f], [a*g, a*h, b*g, b*h], ...]\n",
    "np.kron(arr_5, arr_6)\n",
    "\n",
    "# Compute eigenvalues\n",
    "LA.eig(arr_5) # Returns eigenvectors\n",
    "LA.eigvals(arr_5)\n",
    "\n",
    "# Get Vector Norm sqrt(sum(x**2))\n",
    "LA.norm(arr_5)\n",
    "\n",
    "# Get Multiplicative Inverse of a matrix\n",
    "LA.inv(arr_5)\n",
    "\n",
    "# Get Condition number of matrix\n",
    "LA.cond(arr_5)\n",
    "\n",
    "# Determinates are used to compute volume, area, to solve systems\n",
    "# of equations and more. It is a way you can multiply values in a\n",
    "# matrix to get 1 number.\n",
    "# For a matrix to have an inverse its determinate must not equal 0\n",
    "# det([[a, b], [c, d]]) = a*d - b*c\n",
    "arr_12 = np.array([[1, 2], [3, 4]])\n",
    "# 1*4 - 2*3 = -2\n",
    "LA.det(arr_12)\n",
    "\n",
    "# Determinate of 3x3 Matrix\n",
    "# det([[a, b, c], [d, e, f], [g, h, i]]) = a*e*i - b*d*i + c*d*h\n",
    "# - a*f*h + b*f*g - c*e*g\n",
    "\n",
    "# When we multiply a matrix times its inverse we get the identity\n",
    "# matrix [[1,0],[0,1]] for a 2x2 matrix\n",
    "# Calculate the inverse 1/(a*d - b*c) * [[d, -b], [-c, a]]\n",
    "# 1/(4 - 6) = -.5 -> [[-.5*4, -.5*-2], [-.5*-3, -.5*a]]\n",
    "arr_12_i = LA.inv(arr_12)\n",
    "arr_12_i\n",
    "\n",
    "np.dot(arr_12, arr_12_i)\n",
    "\n",
    "# Solving Systems of Linear Equations\n",
    "# If you have 3x + 5 = 9x -> 5 = 6x -> x = 5/6\n",
    "# If you have x + 4y = 10 & 6x + 18y = 42\n",
    "# Isolate x -> x = 10 - 4y\n",
    "# 6(10 - 4y) + 18y = 42 -> 60 - 24y + 18y = 42 - > -6y = -18 -> y = 3\n",
    "# x + 4*3 = 10 -> x = -2\n",
    "arr_13 = np.array([[1, 4], [6, 18]])\n",
    "arr_14 = np.array([10, 42])\n",
    "# Solve will solve this for you as well\n",
    "LA.solve(arr_13, arr_14)\n",
    "\n",
    "# Return a identity matrix with defined number of rows and columns\n",
    "np.eye(2, 2, dtype=int)"
   ],
   "outputs": [
    {
     "name": "stdout",
     "output_type": "stream",
     "text": [
      "arr_5\n",
      " [[1 2]\n",
      " [3 4]]\n",
      "arr_6\n",
      " [[2 4]\n",
      " [6 9]]\n",
      "arr_3\n",
      " [1 2 3 4]\n",
      "arr_4\n",
      " [2 4 6 8]\n"
     ]
    },
    {
     "data": {
      "text/plain": [
       "array([[1, 0],\n",
       "       [0, 1]])"
      ]
     },
     "execution_count": 10,
     "metadata": {},
     "output_type": "execute_result"
    }
   ],
   "execution_count": 10
  },
  {
   "cell_type": "markdown",
   "metadata": {},
   "source": [
    "### Saving & Loading NumPy Objects"
   ]
  },
  {
   "cell_type": "code",
   "metadata": {
    "ExecuteTime": {
     "end_time": "2024-07-16T20:44:20.975918Z",
     "start_time": "2024-07-16T20:44:20.946948Z"
    }
   },
   "source": [
    "arr_15 = np.array([[1, 2], [3, 4]])\n",
    "# Save as randarray.npy\n",
    "np.save('randarray', arr_15)\n",
    "# Load saved array \n",
    "arr_16 = np.load('randarray.npy')\n",
    "arr_16\n",
    "\n",
    "# Save as a CSV \n",
    "np.savetxt('randcsv.csv', arr_15)\n",
    "# Load CSV\n",
    "arr_17 = np.loadtxt('randcsv.csv')\n",
    "arr_17"
   ],
   "outputs": [
    {
     "data": {
      "text/plain": [
       "array([[1., 2.],\n",
       "       [3., 4.]])"
      ]
     },
     "execution_count": 11,
     "metadata": {},
     "output_type": "execute_result"
    }
   ],
   "execution_count": 11
  },
  {
   "cell_type": "markdown",
   "metadata": {},
   "source": [
    "### Financial Functions"
   ]
  },
  {
   "cell_type": "code",
   "metadata": {
    "ExecuteTime": {
     "end_time": "2024-07-16T20:44:22.883322Z",
     "start_time": "2024-07-16T20:44:22.860483Z"
    }
   },
   "source": [
    "# Install in Conda terminal with\n",
    "# conda install pip\n",
    "# pip install numpy-financial\n",
    "import numpy_financial as npf\n",
    "\n",
    "# Compute future value of $400 investment every month\n",
    "# with an annual rate of 8% after 10 years\n",
    "npf.fv(.08/12, 10*12, -400, -400)\n",
    "\n",
    "# Calculate interest portion of payment on a loan of $3,000\n",
    "# at 9.25% per year compounded monthly\n",
    "# Period of loan (year)\n",
    "period = np.arange(1*12) + 1\n",
    "principle = 3000.00\n",
    "# Interest Payment\n",
    "ipmt = npf.ipmt(0.0925/12, period, 1*12, principle)\n",
    "# Principle Payment\n",
    "ppmt = npf.ppmt(0.0925/12, period, 1*12, principle)\n",
    "for payment in period:\n",
    "    index = payment - 1\n",
    "    principle = principle + ppmt[index]\n",
    "    print(f\"{payment}   {np.round(ppmt[index], 2)}    {np.round(ipmt[index],2)}    {np.round(principle, 2)}\")\n",
    "\n",
    "# Compute number of payments to pay off $3,000 if you paid\n",
    "# $150 per month with an interest rate of 9.25%\n",
    "np.round(npf.nper(0.0925/12, -150, 3000.00), 2)\n",
    "\n",
    "# Calculate net present value of cash flows of $4,000, $5,000\n",
    "# $6,000, $7,000 after $15,000 investment with .08 rate per period\n",
    "npf.npv(0.08, [-15000, 4000, 5000, 6000, 7000]).round(2)"
   ],
   "outputs": [
    {
     "ename": "ModuleNotFoundError",
     "evalue": "No module named 'numpy_financial'",
     "output_type": "error",
     "traceback": [
      "\u001B[1;31m---------------------------------------------------------------------------\u001B[0m",
      "\u001B[1;31mModuleNotFoundError\u001B[0m                       Traceback (most recent call last)",
      "Cell \u001B[1;32mIn[12], line 4\u001B[0m\n\u001B[0;32m      1\u001B[0m \u001B[38;5;66;03m# Install in Conda terminal with\u001B[39;00m\n\u001B[0;32m      2\u001B[0m \u001B[38;5;66;03m# conda install pip\u001B[39;00m\n\u001B[0;32m      3\u001B[0m \u001B[38;5;66;03m# pip install numpy-financial\u001B[39;00m\n\u001B[1;32m----> 4\u001B[0m \u001B[38;5;28;01mimport\u001B[39;00m \u001B[38;5;21;01mnumpy_financial\u001B[39;00m \u001B[38;5;28;01mas\u001B[39;00m \u001B[38;5;21;01mnpf\u001B[39;00m\n\u001B[0;32m      6\u001B[0m \u001B[38;5;66;03m# Compute future value of $400 investment every month\u001B[39;00m\n\u001B[0;32m      7\u001B[0m \u001B[38;5;66;03m# with an annual rate of 8% after 10 years\u001B[39;00m\n\u001B[0;32m      8\u001B[0m npf\u001B[38;5;241m.\u001B[39mfv(\u001B[38;5;241m.08\u001B[39m\u001B[38;5;241m/\u001B[39m\u001B[38;5;241m12\u001B[39m, \u001B[38;5;241m10\u001B[39m\u001B[38;5;241m*\u001B[39m\u001B[38;5;241m12\u001B[39m, \u001B[38;5;241m-\u001B[39m\u001B[38;5;241m400\u001B[39m, \u001B[38;5;241m-\u001B[39m\u001B[38;5;241m400\u001B[39m)\n",
      "\u001B[1;31mModuleNotFoundError\u001B[0m: No module named 'numpy_financial'"
     ]
    }
   ],
   "execution_count": 12
  },
  {
   "cell_type": "markdown",
   "metadata": {},
   "source": [
    "### Comparison Functions"
   ]
  },
  {
   "cell_type": "code",
   "metadata": {
    "ExecuteTime": {
     "end_time": "2024-07-16T20:44:26.785779Z",
     "start_time": "2024-07-16T20:44:26.779458Z"
    }
   },
   "source": [
    "carr_1 = np.array([2, 3])\n",
    "carr_2 = np.array([3, 2])\n",
    "# Returns boolean based on whether arr_1 value Comparison arr_2 value\n",
    "np.greater(carr_1, carr_2)\n",
    "np.greater_equal(carr_1, carr_2)\n",
    "np.less(carr_1, carr_2)\n",
    "np.less_equal(carr_1, carr_2)\n",
    "np.not_equal(carr_1, carr_2)\n",
    "np.equal(carr_1, carr_2)"
   ],
   "outputs": [
    {
     "data": {
      "text/plain": [
       "array([False, False])"
      ]
     },
     "execution_count": 13,
     "metadata": {},
     "output_type": "execute_result"
    }
   ],
   "execution_count": 13
  },
  {
   "metadata": {},
   "cell_type": "code",
   "outputs": [],
   "execution_count": null,
   "source": ""
  }
 ],
 "metadata": {
  "kernelspec": {
   "display_name": "Python 3",
   "language": "python",
   "name": "python3"
  },
  "language_info": {
   "codemirror_mode": {
    "name": "ipython",
    "version": 3
   },
   "file_extension": ".py",
   "mimetype": "text/x-python",
   "name": "python",
   "nbconvert_exporter": "python",
   "pygments_lexer": "ipython3",
   "version": "3.12.2"
  }
 },
 "nbformat": 4,
 "nbformat_minor": 4
}
