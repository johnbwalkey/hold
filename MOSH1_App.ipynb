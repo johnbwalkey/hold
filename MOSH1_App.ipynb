{
 "cells": [
  {
   "cell_type": "markdown",
   "metadata": {},
   "source": [
    "# Mosh 1 hour Python Tutorials"
   ]
  },
  {
   "cell_type": "code",
   "execution_count": 1,
   "metadata": {},
   "outputs": [
    {
     "name": "stdout",
     "output_type": "stream",
     "text": [
      "Hello World\n",
      "20\n",
      "30\n",
      "Hello John\n"
     ]
    }
   ],
   "source": [
    "# example functions and syntax\n",
    "print (\"Hello World\")\n",
    "age =20\n",
    "print (age)\n",
    "age = 30\n",
    "print (age)\n",
    "price =19.95\n",
    "first_name = \"John\"\n",
    "last_name='Walkey'\n",
    "print (\"Hello \" + first_name)\n",
    "\n",
    "is_available= True"
   ]
  },
  {
   "cell_type": "code",
   "execution_count": 2,
   "metadata": {},
   "outputs": [
    {
     "name": "stdout",
     "output_type": "stream",
     "text": [
      "124\n"
     ]
    }
   ],
   "source": [
    "# so 3 types of dat - numbers, strings & boolean\n",
    "# convert - error type - year= input('what year you born ') so...\n",
    "year= input('what year you born? ')\n",
    "age = 2024 -int(year)\n",
    "print (age)"
   ]
  },
  {
   "cell_type": "markdown",
   "metadata": {},
   "source": [
    "## about goes into loop forever - does jupyter all input statement?\n",
    "## YA it's at top of screen not in output or terminal !!!!!"
   ]
  },
  {
   "cell_type": "code",
   "execution_count": 5,
   "metadata": {},
   "outputs": [
    {
     "name": "stdout",
     "output_type": "stream",
     "text": [
      "john walkey\n"
     ]
    }
   ],
   "source": [
    "# calc (input returns a string)\n",
    "first=input(\"first: \")\n",
    "second = input (\"second: \")\n",
    "sum = first + \" \" +second # blank quote to space out\n",
    "#sum = int(first) + int(second)\n",
    "print (sum)"
   ]
  },
  {
   "cell_type": "code",
   "execution_count": 7,
   "metadata": {},
   "outputs": [
    {
     "name": "stdout",
     "output_type": "stream",
     "text": [
      "sum: john walkey\n"
     ]
    }
   ],
   "source": [
    "# if float input (could put flot in front of input)\n",
    "first = input(\"first: \")\n",
    "second = input (\"second: \")\n",
    "# sum = float(first) + float(second)\n",
    "print (\"sum: \" +str(sum))"
   ]
  },
  {
   "cell_type": "code",
   "execution_count": 8,
   "metadata": {},
   "outputs": [
    {
     "name": "stdout",
     "output_type": "stream",
     "text": [
      "PYTHON\n"
     ]
    }
   ],
   "source": [
    "# Strings - type a string name - then dot and see methods ... cas, find, replace ==immutablle\n",
    "course = 'Python'\n",
    "new = course.upper()\n",
    "print (new)"
   ]
  },
  {
   "cell_type": "code",
   "execution_count": 9,
   "metadata": {},
   "outputs": [
    {
     "name": "stdout",
     "output_type": "stream",
     "text": [
      "13\n",
      "3.3333333333333335\n",
      "3\n",
      "1\n",
      "1000\n"
     ]
    }
   ],
   "source": [
    "## math operators  - + * / and ** is exponent and\n",
    "print (10+3)\n",
    "print (10/3) # divide get float\n",
    "print (10//3) # get integer\n",
    "print (10 % 3) # get remainder\n",
    "print (10**3)"
   ]
  },
  {
   "cell_type": "code",
   "execution_count": 11,
   "metadata": {},
   "outputs": [
    {
     "name": "stdout",
     "output_type": "stream",
     "text": [
      "16\n"
     ]
    }
   ],
   "source": [
    "# augmented operator\n",
    "x=10\n",
    "x=x+3\n",
    "x+=3 # same as line above - aug assignment  operator/ can do subtract -= AND *= OR /=\n",
    "print (x)"
   ]
  },
  {
   "cell_type": "code",
   "execution_count": 12,
   "metadata": {},
   "outputs": [
    {
     "name": "stdout",
     "output_type": "stream",
     "text": [
      "16\n",
      "26\n"
     ]
    }
   ],
   "source": [
    "# order of operations\n",
    "x=10+3*2\n",
    "y=(10+3)*2\n",
    "print (x)\n",
    "print (y)\n",
    "# comparison operators > < >= <= == != (== is compare)"
   ]
  },
  {
   "cell_type": "code",
   "execution_count": 13,
   "metadata": {},
   "outputs": [
    {
     "name": "stdout",
     "output_type": "stream",
     "text": [
      "True\n"
     ]
    }
   ],
   "source": [
    "# Boolean\n",
    "price =25\n",
    "print (price > 10 and price <30) # get True - could use or and not (logical operators)\n"
   ]
  },
  {
   "cell_type": "code",
   "execution_count": 15,
   "metadata": {},
   "outputs": [
    {
     "name": "stdout",
     "output_type": "stream",
     "text": [
      "It's a hot day\n",
      "drink water\n",
      "done...\n"
     ]
    }
   ],
   "source": [
    "# if statements\n",
    "temp = 30\n",
    "if temp > 20: # executed if True  -- indentation represent a block of code {curl braces  in C etc}\n",
    "    print (\"It's a hot day\")\n",
    "    print (\"drink water\")\n",
    "print (\"done...\") # could use elif with : at end for second condition (can have many!!!)\n",
    "# end with else: which gets executed if none of other conditions true"
   ]
  },
  {
   "cell_type": "code",
   "execution_count": 16,
   "metadata": {},
   "outputs": [
    {
     "name": "stdout",
     "output_type": "stream",
     "text": [
      "1\n",
      "2\n",
      "3\n",
      "4\n",
      "5\n"
     ]
    }
   ],
   "source": [
    "# While loops - repeat a block of code a number of times\n",
    "# (if do 1_000 it works and makes code more readable)\n",
    "i=1\n",
    "while i <=5:\n",
    "    print(i) # could do print (i * '*')\n",
    "    i=i+1"
   ]
  },
  {
   "cell_type": "code",
   "execution_count": 17,
   "metadata": {},
   "outputs": [
    {
     "name": "stdout",
     "output_type": "stream",
     "text": [
      "tom\n",
      "['bill']\n"
     ]
    }
   ],
   "source": [
    "# Lists - complex type (beside number, str and boolean)\n",
    "names = [\"jo\", \"bill\", \"tom\", \"jane\"] # each has an index 0 is first element\n",
    "print (names[-2])\n",
    "# change value - names [0] = \"John\"\n",
    "# or print range\n",
    "print (names[1:2])\n",
    "\n",
    "# List methods type \"a\". see list of options example numbers.   see choices like append\n",
    "\n"
   ]
  }
 ],
 "metadata": {
  "kernelspec": {
   "display_name": "base",
   "language": "python",
   "name": "python3"
  },
  "language_info": {
   "codemirror_mode": {
    "name": "ipython",
    "version": 3
   },
   "file_extension": ".py",
   "mimetype": "text/x-python",
   "name": "python",
   "nbconvert_exporter": "python",
   "pygments_lexer": "ipython3",
   "version": "3.12.2"
  }
 },
 "nbformat": 4,
 "nbformat_minor": 2
}
